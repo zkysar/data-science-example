{
  "cells": [
    {
      "cell_type": "markdown",
      "metadata": {
        "id": "view-in-github",
        "colab_type": "text"
      },
      "source": [
        "<a href=\"https://colab.research.google.com/github/zkysar/data-science-example/blob/main/Week_6_2.ipynb\" target=\"_parent\"><img src=\"https://colab.research.google.com/assets/colab-badge.svg\" alt=\"Open In Colab\"/></a>"
      ]
    },
    {
      "cell_type": "markdown",
      "metadata": {
        "id": "_GJ0QJPaxUea"
      },
      "source": [
        "#Lecture\n"
      ]
    },
    {
      "cell_type": "markdown",
      "metadata": {
        "id": "Npa8wGP5xOFt"
      },
      "source": [
        "## Using SVM on The Iris Dataset\n",
        "The iris dataset is an extremely popular dataset for learning out machine learning techniques.\n",
        "\n",
        "The dataset contains 3 classes that each correspond to a type of iris plant.\n",
        "\n",
        "Each class has 50 data points and each data point consists of 4 features.\n",
        "\n",
        "These features consent of the sepal length in cm, sepal width in cm, petal length in cm, and petal width in cm.\n",
        "\n",
        "Today we are going to use svm from the machine learning library, sklearn in order to predict what classes each iris data point belongs to.\n",
        "\n",
        "Our goal is to pass the sepal length in cm, sepal width in cm, petal length in cm, and petal width in cm in our svm model and have it predict one of the 3 classes of iris flower this data could belong to."
      ]
    },
    {
      "cell_type": "markdown",
      "metadata": {
        "id": "EXhOttVJ1KYX"
      },
      "source": [
        "### Setup - Iris Dataset\n",
        "\n",
        "- Download dataset from this link https://drive.google.com/file/d/1IfzhEBGuhwgdIyggePpqX4jOxFugB2cW/view?usp=sharing\n",
        "\n",
        "- Upload iris.csv file to Google Colab\n",
        "\n",
        "![image.png](data:image/png;base64,iVBORw0KGgoAAAANSUhEUgAAAVAAAAFhCAYAAAAmzvLRAAAgAElEQVR4nO3deVyVdd7/8dcBlMVdMbcOGoOC2phY/VxwHMysNBVzyNG6c8FtHLWsJjXL25wac6nUtBrXtMbBzCk1c81kTFxuJ1DHBYVQQcUFUlwO+7l+f1yc4zlwNg6H5XA+z8ecAa71ew755rtd16VRFEVBCCFEmfkkJydXdRmEEMItaaQGKoQQjktOTqZt27YAeFVxWYQQwm1JgAohhJMkQIUQwkkSoEII4SQJUCGEcJIEqBBCOEkCVAghnCQBKoQQTpIAFUIIJ0mACiGEkyRAhRDCSRKgQgjhJAlQIYRwkgSoEEI4SQJUCCGc5FPVBRBCuL+0tDQSExPLdYzw8HCCgoJcVKLKIQEqhCi3+fPnk5OTU65j7Nmzh2XLljm8fVpaGhs2bGDy5MkEBATY3Fan07Fs2TKGDRvm0pCWABVClEtSUhI5OTlEREQQERFhdbv09HRiY2OtrtfpdCQlJREWFubQeWNjYzl79iwLFixg2rRpVkNUp9OxYMEC0tLSiI2NZfr06Q4d3xESoEIIlwgMDHQ4/FxhypQpzJ8/n7S0NKshahqeWq2WKVOmuLQMMogkhHBLAQEBTJ8+Ha1WawxRnU5nXF8yPKdPn263qV9WUgMVQlSKwMBAoqKiLK5LSkri7NmzZT6mIURL1kSBCg9PcKMAvX3uEKeuW1rjy4OPd0Hrk07c6o2k/GYoY/toIS+dhKOXyHugI93b1a/s4gohSrAVoIBTAQqWQxSo8PAEBwJ06dKlpKenM23aNDIzMx1+k4GBgTY7lMsq5ZsXeXGFpTWRzDu4Bu2lL4mZtwrIo0vqTLrcPMSyETOIG7+J1BldXFYOIUT1UzJEgQoPT3AgQA0jbIbw3LJli0MHDg0NdWmAql5izc+vUzIOfesDTcex/l1fUoJHlFrvLvI2f8fdKa/RYOsmfMIfqZRzNUlPtrndnfGTyN+xG4Am6clkadviN3oEdf46q1LLK4QjNBqNxe8rit0AnT59Ounp6YSFhREWFmazCl7xfKnfqD6WG+RN6dJ/HB197TTXdemcSrjEbXxp2rELIY1Kb5J38RQJ6bfBrykhvw2hqa8Liu6Gcj5dQf6O3XZDVoiqVnLACLA5Ou8qdgM0KCjITa4OSODDR6NZZbXJnkfK+qlEz9rFbeMyX7q8sYn1EzviC1CUztZXBjJ1+/0tCOjIpLWbeP0xz0tR/dVrpWqWEqaiurE02g7YneLkCnanMel0OjIzM11+Yuekk3DgEIdMX+du298NuL19OgNnxREyZT3/PpNK6pkjfDe7O6cWRjPdEJiJXzJ9+20i393NmeRUUn/+jpmRvqSfOIVjZ6lZ9FevVnURhLDJ2lQle1OcXMVuDXT27NlkZWXxzjvvkJ6eTnx8vEMH1mq1DB8+vNwFNLeLuSN2mS9yaJAonS2rt5IXPodFr3ZHreA3pePImcz85ilm7zrEX/s/TX3v4lpmXh55gG+jjoxdtsluqW4+3hO/0SPw//N447J7//suhceO02Crun/2oGi8mjfDp/Mj6N5faNyu7tKP8B080Obxs7RtzX4uuU/OpyvMjukT/ojxvAamfZmGYzh6zixtW2r3ewr/iePJHhRtt8ym+1oqixCuYG+ep7UpTq6sidoN0ICAALKysow/K4rispOXnYVBJHt9ngBFl0hPBJjN74Nnl17/y0lSeJounYayeFgcU98bSOf36hPSM5Knnx/HuP4dqe9d/tKbDsaAGrJ3p7yGd+sgi4MwhYnHyR4UbRy0gfuDP/orGcbAzt9p3k958/Ge3Pvfd4373Bk/icLE42bblAzlkpqkJ3Nn/CT0V68ZA7Aw8bjNfQzlNQ3Y7EHR3Bk/iXorPrG5r3B/ZZmlY2nfslq6dKndqUolQ3Tp0qWVeynn9OnT0el0BAYGEhQUVAEj62VhaxDJASPXcOxlS7VVX/WY3lqenvsdx/58ikOHD7Fv10pWvbKVVVsXs3/lIJo6XW6VT/gjZkFS56+zyN+xi7xvt1oM0JzPVuAT/ogxCAF8Bw+kMOEY+Tt3GwO0ZA2vdr+nKTymhl1h4nHyd+wuVeMMePMNs1qrK+R8tgK/0SPMaqd+MSO5O+U1l55HVC9hYWH4+/sTHx/vcAvVEn9//zJdCjp8+HBiY2OZMmWKzVqlIUSXLl3q8laxQzXQipxHVSm8QwiJBPYeJGVGJF2M40F5pBw4RYPuxaFadJtTcaeoH9mdyOiOREaPJWpRV6KXbmbf1UEMbV6+Yng1b1ZqmU/4I1b7GgsTj+M3eoTF45SsDWYPijZbZgjkgkNHAEo1ub1atihb4R1QmHgc/dXd5H7+hcV1MtWp5pozZ065whMoc+UsKCjI4dqkIURdzW6ApqWlkZ6eXsU1z/JqStSfx7Jq6CpefMmX+dOiCG90g7jVc5m7IYXuC3azJlpL+oYYBs5KICR6DnMmPMODun1s2X4DArRoLUx3qg4MTXq/0SOMNVFD/6uBpeCuKKbdDcJz2LvKqKayG6CG+/w1adKkzBPpKyLxneX72EzWr2/A1MkfMnVocTM6oCmD3v2O+dHqsJJ22Ges/3UqExfN5sVNxX2ljbozM3Ym3e3MYtJfvVbi59K1ypLbgPVaJqi1SNMgND2OoTZXmHCsVDPf9NxeLVugv3qtVA2wMOGY7TfkBK8WzWXkXngUuwHapUsXkpKSCAwMBHD4r4xhe1fpMiOV1Bk2t2BmaiozDT82H8qa1KFmWzTtPon1/zeW27fzAPCtXx9f08Eh76Z0n7KeY+Nvc1sHap+r/fmftfs9Te7nX5gN9OTv2F2qyVqYeJycT1cY+y4NgzSmo/emDKPepgNCeZu/I/fzL8z6NE2b7iXP7Tt4ILq/zefO+Ek0OnrA7BiuZujvNH2PhYnHyflshQwiiRrJboCOGTPG+H1l3++vQng7EIqHEqjfrRv4OTZ5vs5fZ1F47LhxZNsn/BH8Ro8oVXus3e8ps+28mjezOTHdMAUoe1C0WeCZXjrpyLkbHT3Azcd7mm1Td+lHLh/cMfSz3p3ymtkAlUxjEjVNcrL671ajVO28pIqRlKS+jh2D7Gz1q6mwMGjdGrp1u7/swgX4979h82a4dQvefx9m2KzylolhHqjUxIRwb8nJyfj6qpUrt7mdnUPWroX589XwtCUuzvb6yEgYNsx15XLS3Smv4f2bYPynTq7qogghTNSuXRuNRlNDAvTCBRg9+n4whoXB4MHg6wtt2sBXX8HOneb7REaqNU1D7bRhQ4iNhc6doXk55yu5wN3Jr4K3t4SnENVQ7dq18fLyqgGP9MjNhd691fAMC4N9++DMGfj97+HIETVYDeH5zDNqSCqKul1iInz+uRqet27BnDnq1ypUdPYct0eMBR8f6i75oErLIoSwzNfXl9q1a4Pi7nbsUBRQlG7dFCUnR1G+/VZROndWl4GiNGyoKH/6k6KcOWP9GGfOqPuDovj5KcqiRZVXfhO6ZX9XMtuEKjkr1lTJ+YUQ9p07d07Jzc1V8vPzFfevgRrmHYaFwYYN8NxzarO8Wze1dpmRAZ99pq63JiwMDh1SB44AXn1Vrbnm5lZ8+YGCI0fJjnqewmMnaLhvF37jRlfKeYUQzvHy8sLLy6uG9IGCGqRvvgl+fmpgjhpV9mPMmKE28597Th2QunoVvv1WPaaL6a9eQ/fhEgr2xqFp2AD/iePwfX6Iy88jhHA9jUaDRqOpAX2ghnDbuVMNvKlTnQtPg86d1dpo587qMZ97zuU10Zy/r+LW757Eq2kgDbZ+TcMfd0h4CuGG3H8e6NWr0KL4xhjNm8P5866pMd66pQ5OHTsGzzyDLuL3aBo3tnrVkCPy/rWZnKWf4h0WSsBrL+PdzvYt5YQQ1U9ycjJt2xZflFLFZSm/+fPVr23auLa53bChOlLfu7daE72W5XTNVrmn4+5r01B+vUmdv/4vtXr1dE0ZhRBVyr1roLm5au0zN1eteVbE/M3imqjufDqakBD8D8SVKaQLj5/g7mszqP3E7wl4q/rcXEUI4RzTGqh794H+/e9qwEVGVtzk9+KaaEHjQHxOnoCJEx3eNe/brWQPHor/+BgJTyFqIPduwi9Zon6dMKFCT1OUmUWhoqFWi2bq6HxoqN3r5HMWLyNv07c02PgPfB5/rELLJ4SoGu7bhD92DMLD1TmcZ85U6KnuTJiMT6ff4h/RFbp3V7sM9u1Ta74W3Jsxi6ILF6m77CO8XHxbPyFE1aoZTfgLF9SvnTtX6Gnyt+2g6PxF/CdNUM/12WfqiuHD70/iL1aUls7t4SNRcnKov+ELCU8hajj3DVDDNesNG1boaXQfLCLgjVfvLxg1Sn1dvWrWH5q78nOyn32OWr16yjXsQngI9w/QZhX3vJ/ctV/iHdqO2n2fMF+xaJE6aLV5M/nLV3Gz2+8pSDxG/S/X4D9xXIWVRwhRvbh/gFZgDTR33T/wG/VS6RUNG8KECeTWa8i9jz6m7uKF1Pt0CT6dO1VYWYQQ1Y/7jsJfK35AWwUFaMH//QdNo0bU6t611LrCxOPoEk6CXx3qN22Ad7f/VyFlEEJUb+5bAzUM4LRpUyGHL0r5Be/gh8yWKfn53PvrXO6MHk/t5/9Afe8ivOMPlH5kiBDCI7hvDdQQoA5MoD98+DDTpk3j0qVLNreLjo5mwYIFAOgvXMQ75DeAepPjgv3x5KxZR+3evWi4fw+a+vXhl7PqTZiXL78/Oi+E8BjuXwN14LLKN954w254AmzatIlp06apPxTpwUtDzuJl3BkzkaLz56m74G/UmftXNTwB/vQn9euGDZV271DhOmlpaSxYsACdTlfVRRFuyn0n0j/0kDoX1IHiBwcHA5Cammp3G1BrorPrNMC7ZUv7Nzfu10+92ci336rPYSqHhIQEtm7dSlpamsX1ERERZo+Zri7ctdzz58/n7NmzBAUFMW3aNAICAozr0tLSSE9PJzMzE1Af6a3VagkKCqqq4opqombcjanEJHZX2rRpE0+1CaHnS/9jf+OoKDVAjxwpd4DGxsaSlZVldX18fDxAtQsjdy33lClTmD9/vrEmagjR2NhY9uzZY3GfgIAAIiIi6Nu3L4FyoYTHc98aqEajjsDfvGl307LWQAGWFnpxqVcPJvzjC9sH37lTrYUOG6Y+sK4cYmJiyrW/QWBgIMOGDaNLly4uOZ497lpuAJ1Ox/z580lPTzeria5evdoY/NZERUURFRVVSSUV1YX7X8pZCXNAW6FhQ/yB+32i1hietWTvWfSVKDMzk61bt1Z1MSzSarWEhoYSGhpKkyZNzNZVVbk1Gg1g3ic6ZswYpk2bxpo1a1izZg3Tpk0jNDTUbL8tW7ZIH6qHc88mvCFAK+BZRQZ1FfWvy6ZNm4wj86b0N25QEPcThSdPUdS0FYWZd/Ff+hn+Uxy/3Z01a9asKdf+MTExVvsjq9qYMWOM/YiZmZml/kBVZrl1Oh0LFiwwO6dpcz7M5EGEYWFhhIWFsWXLFrZs2WJcnpSUZNb8F57FPWugBi68B2hqaqrZq+XkPzFIb/7x6K9dJ3fNF9yOfoFbv3+a/H378X7wQfxv36ShT6FLwrMmi4qKMutbDAwMpG/fvlVWntjYWIuBXXJ03jQ0o6KiStVE09LSzEJVeA73DtAK5DvseYbqNawo9CL76YH8+sj/41bk0xSeOo3fxPE0Pp1AvU8X4zduNLXydPJB2tGkSROioqIICgoiyaS7IyoqCn9//0ovT1JSksU+zjFjxqDVas1CNCoqiszMTGKL+7gt9Xvu2bPH7H0Jz+De/+5dMPfSbO6nCe/WQfStVcQKb4U6Hy2g0b5dND6TSN0P51G7j8l9QA2zASr4rlBlYei3q04MI/B9+/YlMTHRuDwgIICnnnqq0stjrcYYERHB9Onq0wNK9okamDbtTVXXfmdRcdyzD9SgnFOZTMMzLCys1GiyDviPRsGnY3vrBzHcl7SCLim1Jy0tjcTERM6ePUtAQAChoaFERESwdOlSAGMYVKXw8HCz0AkMDCQ+Pp6IiAhArdEdOHDA5lSoyhQQEIC/vz85OTlmfaLDhw+3uZ+7TmgRznPPGqgLansla57vvfcemzZtKvuBDNfBV0GA7tmzh3feeYctW7Zw7949bty4QWxsLO+88061CSOgVPDs3r2bLVu2mI1e2wsnV7M2/cjQDDetFZfsE7XWVJcpTZ7H4RpoWloaW7duJSEhwbisS5cuDBo0qPKvzihngFprthuWRUdHO36wXbvUr11L37WpIhn65LRarXFkOzMzk8TERGM4lZwmVBWioqLMJpxv2bLFGO4LFiyospHrsLAw+vbtW2rC/A8//EBYWBhRUVHodDoSEhLIysoqNTofERFh1ofat29fq017UXM5FKCmf4HDw8MJCgoiLS2NhIQEkpKSmDx5ctX8x+NkE/7IkSMAxn8Qpt8fOXLE8QC9ehU2b1Zrn+W8CqmsDP94p0yZYgyo+Pj4ajcabGimgzptSKfTWe2fTUhIYNmyZZVVNKKiokhKSiI9Pd2sDHv27KFv374MHz6c4cOHGyfbm4aooU80Pj4erVYrtU8PZTdADXPlFEXhnXfeMattpqWlsXTpUpYtW1Y1tQknB5EWLlzIH/7wB7p162ZW63zwwQfp1q2b4wc6fFj9+swzFTon1ZKkpCRCQ0PNancRERFmU2yqw7zE+Ph4Y7hs2bLFZtDYu/LH1QICApg+fTpLly7l7NmzxuWxsbEkJiYapywZBrpWr15dKkQNU7Gqw2ctKp/dAE1MTDSOQpZsqgcFBTF8+HCWLVtGYmKiWW2jwoWFqVf/3LrlVJPeUlCWKTzh/gBSBT5WpCwCAwOr3fXZW7ZsISIiAp1OR0BAgNWgSUpKMhudryyGELU0Qd5aX6dpiErN07PZDVDD3WjCw8Mtrjdct5yWlla5Adq5sxqgSUlQ1uBzlePH1a8umsLUpEkTsrKy7F5bPm3aNONIdmZmZqnQNFwdM3z48EqZqG4otzWGK7kCAgLManqmDBPatVqt6wvogKioKCIiItizZw8HDhwgJyfH4nb+/v4EBASUugGJ8Ewum8ZU6dcDP/KIeh/OY8fKFaC2bjBi0zvvwNq1angOG+b0+U0NHz6cLVu2mPXJWbJ161aGDRtGfHw8y5YtY/LkycYQTUtLY8OGDYD1P3quZq/chj/C9hgm21eVwMBAY79nydvZabVaAgMDCQoKstgnKiHqmezejSk+Pp7Vq1czZswYizVMQ8d/ZdV2jAx3QerWDQ4dsrnpI488wp07d5w6TatWrfjpp5/MF8bFQe/ear/noUMV/mx6a/bs2WO8OsYwiGdodlr7fQnXML2LU2hoaLWYbysqR5nuxhQeHo6/vz+xsbGlahKZmZls2LABf3//yv/HGhmpXgt/+LDdOyEtX76cVq1alfkUrVq1YuHChaVXfPWV+vWzz6osPEGdOmNoqiuKgqIoREREMG3aNAnPCmboOw0NDa30Oayi+nDofqBJSUksXboUjUZDeHg4gYGBxjmHOp2OsLAwhg0bVvnzQd98E+bNUx+tUZnPJOrdW62FZmS49IYmQojqz7QG6vANlQ13nDEdKTX89Z0/fz4ajYZp06ZVbohevQrt26sj8fv2qbXSytCihTqFyoGbOQshahanAtRUWlpaqfmgVRaia9fC6NHqZPbExIq9qUduLrz6Kvz97+rE+W+/rbhzCSGqpXLfkd7SfNDp06ejKEqpG9RWuFGj1FHwCxfguecq7umYO3dCeLganm3awPvvV8x5hBBuw6XPRDKtiVbqlUm5uWq/5OHD6qDO7NmWa6Jt2pTtph+3bql9nUuWqF9BDevPPqtWt68TQlSecjfhbTHMn6v0UeCrV9UaqOHySkd062b5Esxbt+7fZcmgc2e11vnMM+UrpxDCrVVogFa5tWvVK4RKBqDB4cOON/PbtFEHpqKiKv1mIUKI6qlmPBfemlGjyra9oWluUNZmvhDCY9W8AC2rypr6JISocdzzjvRCCFENuEUNNDk5uaqLIISoAQx9l67iFgHq6jcthBCuIE14IYRwkgSoEEI4SQJUCCGcJAEqhBBOkgAVQggnSYAKIYSTJECFEMJJEqBCCOEkCVAhhHCSBKgQQjhJAlQIIZwkASqEEE5yi5uJVIT4+Hji4+NLLddqtQwfPrwKSiSEcDceGaBpaWmsXr3a4rqkpCR0Oh1jxoyp5FIJIdyNRwaoTqezud5a7dQgLCyMadOmubpYQgg3I32gJpo0aeLQdklJSSQlJVVwaYQQ1Z0EaLGIiAgWLlxY+Y9jFkK4LQlQ1PA09HmOGTNGQlQI4RCPD1DT8DSQEBVCOMKjAzQoKIiePXuSlpZmtjwtLY2ePXsSFBRURSUTQrgDjw7QtLQ05s+fT2xsrNny2NhY5s+fXypYHZdH+oE4Em4U/1h0g4S9h0i3PfgvhHAzHh2gFSedXXMmsvJwcYLeS2DjKxPZerZqSyWEcC2PnAda8UIYu+cMYw0/1n+aeSefrsoCCSEqgAQokJ6ezoIFC8x+FkIIezwyQAMCAsx+1ul0ZZ4YX/IYQgjP45EBGhQUxJgxY0hISLB7WWdJAQEBREREyAi9EAKNoiiKrQ0SEhLYsGEDTZo0Yfr06XYPuHr1ahISEnjhhRdkLqUQosZJTk6mbdu2gAOj8KtXr0ar1ToUnqBOQu/SpUupqUFCCFHT2A3QnJycUs1VnU7H2bNnzeZJxsfHk5mZCUBgYGCZm8ZCCOFuytwHariXZmZmJjk5OSxbtoz58+eTnp5O37595WbEQgiPUeYADQoKYs6cOezZs4fY2FgWLFhAz549CQ0NJTAwsCLKKIQQ1ZLNALXVDNdqtQD4+/vTt29fq/vLdB8hRE1ltQ80MzOT2NhY/P39CQ8PL7Xe0C9qKSDDw8Px9/dnzZo1xn5RIYSoaWwOIul0OjQajcWQ3LJlCwBnz1q+wFuj0WBnhpQQQrg1qwEaGBjImDFj0Ol0Zs8HyszMJD4+nrS0NPr27Wu8imfBggXGJn9iYiI6nY7hw4dLv6gQosayWQMtWfNcunQp06ZN45///CdTpkwhNDQUgAULFhAeHl5qewnP6iCBucHBzP2Piw/7n7kEx2zkhv0thaixyjQK37dvX4KCgoiIiCAgIIAuXbowfPhw4+WN7kSeC1+Jrm4kpsdOnjm4hqHNq7owQrhOmQI0LCyMsLAws2XWRuCrM3kuvBDCFexeieTv71/mkfTMzEz8/f2dLpQ1169fd8lxHHkufExMjNWX6a3vrLq0i9lDu9I+OJj2PaKZ/Z3JLfKKbnBo6USeejSY4ODOPDVxFacMRbq6kZjguWzcPpvo4vXRs3aRfvsUq8YZjhfDqv/mFe+QwNzgGFZ9t4qYHu0JDm5P11e+JMXGW0zfO/f+tuNWkXDb/ttBd//8nf8wm40nSux04xCfTHyKzsHBBD/6FBNXnCIPuLEphuAeM4gjjhk9gonZdMP+ZyCEm7AboC+88AIJCQlWa2wlzZ8/n6SkJF544YVyF66kTZs2ce3aNZcft6zsPxc+hVWjp5I+ZD3HklM59uVQ0t/8Hz75b/Ha1S8Sc6I3nx5MJTV5P3NabyR64SHyjPt/yc4bQ/nsYCpn9v+VB7+dysBnluH78h7OJJ/hu5fhw0mrOGXcPo6NCSHM+eEMqT9vYrJuLgPNjndf3qG5/M88GPf9GVKTj7Cm+0Gip9rry7zNrjej2fjgfHafSeXI34eSd2iL+ft9IYaff/8pR5JTSd03B+3X0cw9kEfT6DWkHpxHJJHMO5jKmuimDn4GQlR/dgM0IiKCTz75xOEm7fTp0yv0+eqLFy+uFiFq222u/xJCjy4h+HqD72+imPPlPLo3UuNBO2wTR5YNJcQX8K5P9ycjyfv6oEkgvsS4/+lIU1/wfXAQfxyWx+3+I3jpt/XB25eQyGfofulnTl01bN+dsWMi0QYAjTry0suTeWDdTg6VSqMbbFm5isi3Xqd7I/XcHV8cwUtxOzlkK0Gv7uSr7yKZ/HIkWl/wbdqRl2Jeur++SMvQjUf47Hn1/VK/O8/0yWPj0VNWD2n/MxCi+nO7ZyJdu3bNDUK0I1Fv12fZkK7EzFrFxgPpNOjUnS4P+gLgWyePUysMzddggoeuAp152vl6m3zvA/j42jifr3lvdocuPE0612+W3C6dlDj4Mqa9et7gYILbx/AlkFtk4/CXUoh78GF+08hkWS2T7719qZ93ilWTi5vwwcFEr4A8G9VJRz4DIao7twtQcIcQ9aVjzHqO/bSeyf/Pl1PrXqTrMzPYdRUgj4SF0Wrz9adUUlNTSd041t4By6Ywz0ZTWMvr24rPa3yVc3Q8L4G5Q02a8KmpbBpvc4eK/wyEqARuGaDV3s0UDh1I4XajELoMfIk5K/cwP3QjXx24Adwm5Vw6L00YSohh2myBi89/KZ0EtDzQqOSKpmjD09mXWOKZT7ZqnwAPhhB56SS/mNZoTct8M4WUSy8xeViIseacV2jrgJXwGQhRCdwyQJs1a8bUqVNp1qxZVRfFil/46k9/5sO9xR2LNxM4ecKXB+r5Ar40CPRl15ZdpOvyyLsYx9y/fVnO88Wxankc6XlAXgob583l9vgoupdq9WuJGjOIU+/P5svT6ij67f9+SczQTzhlq/Xc/Bn+ODCOZR+r58i7kcAni0zKHNCABwJ2sWVXOnm6PNL3zmXuBpP9m2oJ4RfSM/KKm/UV8RkIUfncLkCrf3gCjZ5m/jdjYfkA2gcHE/zkMq5P2MScp+sD9Xn6nU28dPV/eerh9nR9bR8hE8bSkTxuO90F2J2nQ08xu3d7gtsP5Mumc1j9chcs9ZrW77+Y3e9r2TK2K8HBwfR6J4Vn3h9LR1tdrNTn6fc3MfTSdJ5qH0zXP22h6TNRJqufZk7sS6TPeYr2D3fl1bgQxo3pCPduq10J3l2IevtBvvxDezp/mlBBn4EQlc/uM1wQCkUAACAASURBVJGqk08//ZQ//OEP5Q5Pw7X75TFt2rRSFxVUjQTmBi8jpLxX+VzdSEyPGcSVWhHJPLmCSAgj02ciudVTOaOjo3nggQequhg1U/OhrEkdWtWlEMKtuFUT3lXh6YqbPMuNooUQbtWEd6X4+PhyPRe+S5cuFVQyIUR1ZtqE99gAFUIIZ5TpufBCCCEskwAVQggnSYAKIYSTJECFEMJJEqBCCOEkCVAhhHCSW12JVFPJTDIh3IeiKMZ/sxKgFUzCUYiaywfg2mt1jAuafXSvygpTE5QlMCVchXA/UgN1MUeC0NY2EqRCuA8JUBcqSzBa21YCVAj3IgFaTo6GYVl/FkJUb1IDLSdHwrOs39s6rhCi+tDr9ej1ekAC1CWsBWHJr/aWWftZCFF9KIoiAeosW2FnLSitBaqjNVMhRPUhNVAnORKelr6WJ0yFENWLBKiLlSU0JUCFcG8yiOQC9mqcZfnZ0lchRPUkNVAnODLoYxqOpsv0er1xmeGDtxekQojqqaioiMLCQkACtFxKhqqll+GvlenP1raVEBWi+isoKCA/Px+QAHWatVpnyaAsKiqiqKjI+HPJQJUAFcK9lClAi369SNHNtFLLa7XshMa/getLV805MthjCENDVd/w1RCeEqBCuK/8/Hzy8vIAOwFa9OtFMt/rYHGdT6tONP7zTo8IUXvTl6zVQA21z/fff7+yiyyEqCB37tyhXr16gJ0AzTn6D6vrCi+fIOvD7ng3DrK43qflI9QbPL8cxazebPVjmgaoobN50aJFVVxiIYSrOdQH6tPyt3j5N7S80kJrU59zC93+ZdT+TU98fzuwPOWrVmw1ra0FaVFRUSWWUAhRmRwK0HqDF1I75HcOHzQ/5SdufvoMBVdO1KgABcvN+ZJNetO+TsO0JSFEzSMPlXOCrcnxlqYwCSFqJgnQcrIWoqYj7UKImkkCtBwcuVxTAlSImksC1EG2Lt8suVya8EJ4BrkSyQm2QtPa5Piy0t+9Q+43G8jZ9R1FVzMA8Alph09wO+qMHId385blfh9CiPKRALXD0qR5S+tKblOeAM3d9T13PvkA/d07KApoNIAC+eeSyDubRO5P+6g7ajwB0S849Z6EEK7hUIAWXjkBGscPWnjlhLPlcTvWwtLZANVt+ifZyz4oPggoKIAGNUlB0YP+djY3lyyAOnUJ6DfIhe9GCFEWNgPU//H/4d6uudzZPM2pg/s//j9O7ecO7F0H70yAXrl7Hd36FQQooOj1KIBf+GPUCglF4w/KzX9D3pXiLNVQeOYDeKo3eNezfeAdE9D0X2H8scfiZOJfCXG4XEIIy2wGqHfj1gS+fZqiX0vfTMQe78ZBeDdu7XTB3JG1Jr2jlp/8irptNAy7oV69VH/0n0iMGMv3xwu4k6Mw4Kmp9A9cg3Lp7ygoaLiNPmM9Xg/+yfpBd0xA0/8ki5MV1MxMYUlEWyKQEBWivOw24b0bt/a4IHSUtTspOTtwlJSVyuWH6xF5+hat6jZj/6NjmBOrw3C97NHzBdQZFkOveofQ3PmP2qy/8Q1YDdAUlry3gvHbDeEJEMIr6xazse1CdryynH5OlVQIATKNqVpJyvqF2z4KK7s3xi8iki0J+RQpeooUKFIU9IrC1mP5aALaoegLQClEn3PB+gFTvmfjwfEMLpmSIc8ytMdJzqUA7GCCJoIlO5YQodGg0WiIWJJicoz7yzWaCezAZJ8lE4qXl9hHCA8hAVqNFBXp0RfpOdTanxMt/ajrC4V6hSK9ooaoHrJ1elCK0CiFoBSg0RfaPmiPDrS1uOIgp5Pvfz/1PVinKCjJi2HqSJYYwrXtRoYmF9eyt8N7xqA8yNTTg4uXj+fg1IXF4SqE55AArUZaBDQtvg2enrX1MhjUpTb64tpnkV5PkaIwKLw2yq87QFFroNRpZ/ugB0+TbHFFDzq0vf/94nWvEAIQ8gpvjy8O15RznOQgU9sW10D7r+CgMXV7sPiN4qptv8GMx1CjFcJzSIBWI4Pb9kHRKyh6PYcvH+f0va94b0gdHn3Ih95htfn4xbo8Vn85iu48ir4ARZ+PV50w6wcMeZahPVawuWTVMOV7Nh58mHYWx5BSOHfS9OfxbDft610uvaZCGEiAViMvdRxMHZ8AtSmv1/Px0S/5+MxYQsPW0+Khf7D7wl8oujBfrXkqheBdB03QazaOGMIrb49nRf8JJs3rHUxoOxUWv2EygHSQjd8XVx9N+01D2vEwK0ya7UIIUxKg1Uh937rM7DFBvY6+OETTszP4/Pi/+Pz4vwjN2UUrH11xgBbg3eYN8LP8RACjfstRtkN/40BQf9iulJjC1IOHT49U17edysPbDaPz/VievBimtjUOFmkmSE+nEAZyKWc1MyTsaW7l3uHj//uC7Nw7aNCgoPBg7XxGNL6CRgHFpz7ebRegaf6iYwfttxxFWW5zkw5vxGNxk5BXiFdeKbV4uWLalO9X4mchPIMEaDUU0zmap4J7svjwWk7fSOH09RSmNE1D49cSTfOX8NZOAZ+a/zA/Iao7CdBq6sH6zfngqRlVXQwhhA0SoB5Pmt9COEsGkYQQwkkSoEII4SQfgGYf3avqcgghhNuRGqgQQjhJAlQIIZwkASqEEE6SABVCCCdJgAohhJMkQIUQwkkSoEII4SQJUCGEcJIEqBBCOEluJiKEiXPnzlV1EYQbkQAVooR27ew8qE+IYtKEF0IIJ0mACiGEkyRAhRDCSRKgQgjhJBlEEqIMus7aiU/dhmbLCu7e4v/efaaKSiSqkgSoEGXgXachvg88ZLZMrz9fRaURVU0CVIgy0CuglFxWJSUR1YH0gbqZvLw8jzx3Wd27d4+cnByXH1evgFLipS+ZqMJjSIC6kevXr5ORkVElQZaXl0dGRgbXr1+v9HOX1b1791i3bh1ffPEFOp3OpcfWo9ZATV+VGaCjR49Go9GUer311lu0b9+eEydOlNrnxIkTBAUFWVxXUlZWFi1btjQet0GDBqX2y8nJ4YknnjBu88QTT1TIHytb5dJoNHz00UcVek7Tc1v7bCVA3cT169fR6XQEBATg6+tb6ef39fWlTp066HS6ah2iOp2OdevWcePGDa5evcqXX37p0n/chhqn6UupxAD9/PPPURSFzMxMwsLCOH78OIqi8Nprr1ndp1OnTqSlpdGpUyeHztGgQQPjcWfPns3UqVONn+GJEydo3rw5r7/+OoqioCgKixcv5vDhwy55f46WKzMzkw8++IDRo0dX+HltkQB1A6bh+cADD1RZOZo2berSEFUUhTt37pgtu3PnDoqTiaTT6Vi7di03btwwLrt69SpffPGFy0LUYhPeiePk5OSwe/duioqKXFKuijJy5EgyMjJITk4mJyeHqVOn8s9//pNnn33WuE2nTp3o3bu3Q8dz1ftu0qQJO3fu5PDhw2RlZZXrWOUhAVrNVZfwNHBliN69e5esrCxu3boFwK1bt8jKyioVqo4wDc+mTZsalwcGBro0RA2DSOVtwu/fv59Dhw6xYcMGl4boiRMnaNCggVkT17QJWrL5/f333zt87OTkZDIyMujWrZvT5XPl+27bti0tWrQw1n5N37vpexs9erTx+5LN8RMnTjB16lTj8rlz59rtIjA9j4zCV2OG8AQ1IC5cuGBz+zZt2rjkvPbOY2AIUWeDvV69ehQVFXHr1i3u3r1LYWEhDRs2pH79+mU6TsnwHDVqFAsXLgTUGtS6deuMITpixAj8/f0dOu60L46w9dRNapvM+6xVt1GpJnutuo14+K/3m7A5t24Q9cgDfDSyq9VjP/nkk2RmZpKSksKGDRsYNmwY3t7eZXjXpWVnZ7NmzRquXr3Kjz/+yLhx4xg5cqTZNj/++COtW7d2uJa/bt06WrRoQdu2bUlOTiY0NJSAgACny1gR7xvUYHzmmWeMteMTJ04wYMAAtm3bRnR0NJs2beLZZ5/l8OHDNG7cmB9++IFOnTrxww8/EBQUBKifX3JyMoqi8P3331v8/EqeR2qg1ZhGo6nqIthV3jI2bNiQhg0bGsOzYcOG9ncqITEx0Sw8Tf+B161bl5EjRxproo4MpBgsGNGVgR0boanlR0Dzhwho/hC16jZED2avWnUbUrfFQ9Rt8RCa2n52wxPA29ub559/Hj8/P1JSUoiPjy/z+y6pQYMGLF68GH9/f7p160aDBg24fPmy2TZarZZvvvnG5gBMdnY2jzzyCBqNhg8++ICvv/7a+Efn7Nmz5RqYc/X7rl+/PlqtlsuXL9OgQQNj7bhTp0706dOH9PR0tFotN2/eJCcnhz179jBx4kT279/Pr7/+yv79+3nyyScB9fN79dVXAax+fiXPIzXQaszQFL137x7+/v40a9asUs5rryZ77do1cnJyqFOnjllz2VkNGzbEz88PPz8/p/aPiIhAo9HQuXNni7UjQ4ieOHGCrl1tB1tJC0d0peiLI/xwOQP/Ji1sbnsvK4O+LfPshidAUVERX3/9Nbm5uYSEhBAREVGmcjmrU6dOZGdn89FHH6HRaNi2bZtZfyaoQbJz585Sg06mTeaS+zjKle87OTmZs2fP0qpVq1JBZ6pt27YAHDlyhBs3btC/f3927Nhh/GPatm1bp/8oSA20mjP0Oebk5HDt2rWqLo7Lw9PA2fA06NGjh82mZd26denRo4dTx/5oRFf6tMzjXlZGqf5Pw+tuZgZ9WuSxyIHwBPjhhx9ISUkhJCTEZc3Ysnjttdf48MMPOXv2rMP7+Pv78/rrrzNgwACzvtMTJ06wb98+h47hqvdtaEp/8MEHNGnShFatWpGdnW3WH3r48GG6deuGv78/vXr14q233uLRRx+lcePGPProo8TGxtKrVy+Hu3SAUueRGqgbMK2JXrt2rdJqoiVVVHi6g0UjuzJ17RF2X8mgToma6N2sDJ5skceSUY7Xbnv16oVGo6FPnz6VGp7ff/89AwYMAKBFixb897//LdP+zz77LMePH+d3v/sdt2/fBqB3794OD0aV530buhZAbbr/9NNPxlqyYVTeUC7D+iZNmgBq3+vixYuNzXXDz5MmTSpTGUqeR6M4O2fEQxg+HsOcN8NLr9eXeimKQlFREYWFhRQUFJCfn09ubi4rV65k0aJF5S7LjRs3uHfvHi1btqR27drlPl5Z5Ofnc+XKFbcJzzlz5gAwe/bsMu137tw5m3ekn/L5EfZc8aVOoBqi9zLVZvvS0WXrGhA1gzTh3UjTpk2rJDwBateuTcuWLd0iPCvS0tFdebJlHnduZHDnRgZPSnh6NAlQN1MV4Vkdzl2dLBvdlb4t8ujbIo9lEp4eTfpARY1U1qZ7WX0yRoJTSA1UCCGcJgEqhBBOkgAVQggnSYAKIYSTJECFEMJJEqBCCOEkmcYkRAnnzp2r6iIINyEBKoQJW5dxClGSNOGFEMJJEqBCCOEkCVAhhHCSBKgQQjhJAlQIIZwkASqEEE6SaUyVRJeTW9VFEEK4mNRAhRDCSRKgQgjhJAlQIYRwkgSoEEI4SQJUCCGcJAEqhBBOkgAVQggnSYAKIYSTJECFEMJJEqDu6uBK2vcZa3xFx2ZU3rnTtxPdZw5r0ivvlFUjkZl9xtJhXqKF5RXw/ot/px0mbOeC3XJZO38FlU1YJAHqjg6upMOsK7yxdhVn9q7izN536R83q/JCVNufTXtnE6OtnNNVLS0dzn/CzIMVfZ5EZs46wnPvruL08v60qejTCZeQAHU7GaxZd4TB75oGWAti3h4Cq7YRV5VFq6H6jxzCuXX2aoWuoCXEI/4o1RxyMxF3k57I9pSuTO5RYrk2nP4hR0lNh0htIjP7bIW+sHlPSz7dO47I9O1Ej/qGU0DHsUNot+ooIWvVEI6bN5aJe9TDaPpO4vSMcNSm4FZCxrZk4aojAHQc+y6bhre4v27tbJ44MId+q+63F437m5xPQ1e1DBbezuWrmTz54gyrb/eH9fNo1TywHB+YC2j7M/mhsfwlNrz4/Zdg4b0ybyy7e61ibg8w/bxitMXbr2/BphnhxQdIZGafT/gWYNRYths+Z5PjAjz3ruF41s/fcewQ2llZd//3YP7fx+m941zyMXkiqYG6o5BWVpp46aSk3//+XOvxnDb8gxn1De3eVZv8H3CUzSZ7Rc4wdAVMYvCerSb9Z+l8cPExdd27XTltoYbbZvhs477P0ZVPDeE76ij9i7sYTr8Ly6x0L7RqHsgXH75hcd0XH75R9eFZLHLGJNqtWmGhb9Hye43s1ZXN+4v7Tg/+h3MhsP2A+hlcOHAUWjc3OUY4c/dO4jm0vLF21f0/Uia/szNrh3BulqW+TVu/W1u/h/v/fQjnSYC6o5TLVpqTpk1ALf17FteW0jM4FzKE8cW1lzbDBzHYdDfjgNQnZsEKWv7yYnEtqcdjDOYKqVYGJ+LmfQLvFtcy0zM4RzoLRxUPcs06wumLV62+ncc7h5YK0S8+fIPHO4da3afyhTP33ZZ8sL7EgJK196ptRYfzGVwA4vZfof/IxyEukQtk8GMc93831qRncI6uPGWocWr7M7mv6R9Ik+2s/W5t/h609ssg7JImvLvRhtM/5Bt2HxxHpGlzLj2R7SktmVzWPrT07UTPgs/2riKSDNZMWFH2Mh1cyZ+ZxGmz5mVXPrPSbLfEEKIjXl9YDcOzWI8B/GXdLGYenFRihaX32pz+rODH9BaknH+c8TPCYd02LqTDdh7ng0rr67RUtpKzCoSzpAbqdloQM7Irm2etNGlOq804xg6wHFjaFrRL+YYVxSPJF2K33q9ppl/mtKFLID2R7SllLU8iM2dR3HQ3OR9HrDbbrXm8cyg/rJ9XPcMTMAzWnZtlUlO3+l5b8EQkbH9vK+ciw2lDC56IvMLu9ZchMtz+KHvxcXcbRv/Tt7Nsj0mN1HQ7a79bJ38PwnFSA3VHPcZx+l212W3w3Lur2GRpgAFQm59daT9rLN+iDjQM5mjxsdRaVb8+36AJ6crgkLIVJW6eOvjxbR91oEkTMoTty/szd+0QokfNov0qdbv7g1O2VZc+T6u0/flg7FH6rzIsCLf6Xtv0fBxWHaX/22pTuU3Pxzm36ij91zrSdDYcdyztAQ1a/rJ2toU/kDZ+t1bL5vzbF+Y0iqIoVV2I6szw8SiKYvbS6/WlXoqiUFRURGFhIQUFBeTn55Obm8vKlSv529z3q/idmEjfTvSoy0wuQxNbCFGaNOE9UNz6b+4324UQTpMmvEfIYM2EWSws7t9U5wPK1S5ClJcEqEdoQczyVcRUdTGEqGGkCS+EEE6SABVCCCdJgAohhJMkQIUQwkkSoEII4SQJUCGEcJIEqBBCOEnmgVaSO3fuVHURhBAuJgFaSZo90LSqi1ChsrOzy7V/gwYNAMjNzcXPz88VRRKiwkkTXgghnCQBKoQQTpIAFUIIJ0kfqIc6fvw43377LfHx8QAEBwczYsQIIiIiqrhkQrgPqYF6oPj4eKZPn87Ro0eNy1JTU3nnnXc4duxYFZZMCPciAeqBzpw5Q6vGfjzWtikBtb3JycklJycXnU5HbGysy883depUlx9TiOpAAtQD9ej6OOOHPkH/yC785cXf8chvAikqKkKvV7h7914ZjrSDCRqNzS0M4SkhKmoiCVAPpG0RiK9/PXwD6uHj68fgiBBinnyIAY8785xwq0+yKxWalR+ip/lo9FsMXHHawvKP2WT9UfVCOEQC1AMpip6C/BwK83IoKixA0RfRrKEver2e8HD7T850hGlYLl682OLyytGM4Evr+Sihkk8rPIIEqAfyr98EXfYN7mXfIO/uLQry7pGbV0jyr34MG/ZHl57LEJ6mIVrZfje4Lxc3x3GpykogaiqZxuSBavkG4O1Ti9s3LqEvLCAvP59LN7KZ+sob1K1b12XnKRmaixcvrpq+0JaRvPDgWyzc1pElA0pfUntkxVu8d6j4h+4v8t34DqjN/B8ImtKJn5buIRXoPeVvDL3yMRP/dQ2A4D9MvX+8q3G88qa6HXTi7c//SNeKf2eiikkN1AN9nfAjsVm3OXcjm8vXb5GSnkV200A2XDnOvfxcl5zDWo2zqmqiXce/SOt/xVrs9+w6/m989/nf+O7zF+l96AeTba6xbjO88fnf+G5KJ/YtfYuFDFe3ndKJ1H/9yBEATvPRmyf43fvFx5kC/9x2o9Lem6g6UgP1MEcvnuHrhB8puFvI4/XqU5idRVBQU75v1Iz8rAwmxy5k9oCxtGnizIBSddaB16b8l4FbTxM9vsSqhK8YuPRE8Q/NGGlc0YyRf47kQYAuv6U31wh6rLjG2eW39OYH0q9CV65zkWvse/Mt1hl27f5boGbfQEZIgHqcrxN+VL9RFLqOep9bV5P5+sRe8nPuApCbn8+721Yzb8gkmtZrVIUlrQBdnmDk5sV8lPDi/WVX43hlKbz9+d/oyg02/a+z82Cl2e6JpAnvYS5kZRi/96rtz85LSVwqDk8/Lx/0GoU7Bbl8nbivqopYgZoS/ee+XFy6HuO7u3KNVG0zWgFcPcVP6U4ctvkDtOaENNs9kASoBztz+SxnLp8FwEujIb+oEKV43dHzpxw4Qj+WK/EVVr4K0TySN/7Q7P7PXZ5gJHuYOPotBn56jdZaZw7agdfe7wv/WszA0W+pr1JzT0VNpFEURbG/mecyfDyKopi99Hp9qZeiKBQVFVFYWEhBQQH5+fnk5uaycuVKFi1aVMXvRDV63bvcK8jD656e2g0DyC1QB428NBr0Jf5TWPDcJIf7QuWGysITSQ3Uwywb/gaR7bqgr+NlDE8AS39G7+Tq0Ov1lVg6IdyLDCJ5mDq1/fhzryGM7NafuHMJnM44z+krqdwryDPbrnGdBjSsXQe9Xo9Go0Fj55p3ITyRBKiHqlPbj2cf7sGzD1u/ll0IYZs04YUQwkkSoEII4SQJUCGEcJIEqBBCOEkCVAghnCQBKoQQTpIAFUIIJ0mACiGEk2QivYd44u21Tu2nFL/i3hvl0vIIURNIgHqQnkNG4aVRr3svUqBQgUK9+rVAr35fULwstwjuFarb6f7tXPgKUdNJE96D+HiBjwa8vcBLA5riF4DG+H9qeN4pVIO1SAG9lft17Zgg18gLzyYB6kFs3bdQQQ3Ke4WQXVBcMy2unVq7H1O/5QpyN0ThyaQJ70GK9KBo1KDUK2pT3vB9kQK/5sGdguKfub/OWg1UCE8nAepBioqD0vB9oUm/57Xc++FpfHE/aIUQpUmAepACvdrnaahxFuohTw9XdKArHjAyhKZpiEp+CmGZBKgHKdAXT0sqHoHP18MlnTpoVDI0i0y+10iCCmGRBKiHUFBrm0pxKOYUwVWdukxvpeZp+N67aosuRLUlAeoh9Aqc3LbWWAM1TJA3fl9iGaizmrxsjMK7m72z5xGzzfI6zYAhXJjTzqnjnl+3ht6pPZ3e3xF7Z89jDEO40CeJ1q9afuLn84tmMOl8xZdF3CcB6iH+/TfrVxIdOp4EQPdHwiqrOFWiz5wZXJyjfm8MJHcImv1bTcrajos/Dyq1vs3yQCb1god6xbBv3RoGrGvCtpFNqqS4nkQC1EN9/EXpqtjR4ynG718eMaAyi+OwrKwsmjSxHQw6nY6cnBy727mHLFYsz2TmXGtBn8WK5aeJnjCDh4qXPDSyJ2GPxrN35CD6VFYxPZQEqIeqrgFpz6effkqfPn3o0cPyw/B0Oh0ffvghoaGhDB06tMzHP79uDZEfXzf+bKlpb9oVoAnrxeqnShzk4kEGDNnPf7m/zb71PXgIyzXf8+vW0Ht3GBfWW3hP++OZG9KTC62tFHh/PHPpxb5epgvbMenlA0xZl0UfqYVWKAlQD/Fr9h1+vX2Hm9n3KCwqcmgfH29vGjWoQ+P69WjcoF4Fl9Axr7/+Oh9++CFAqRA1hKdWq3U6PHt/HMian2OKa25ZrHhxJW1m3w+8vbPnMSalF3E/q4HI/q20fvU6GpO/R+fjMhn0zQy2tb5/jN6zA7kwpx19+nSA5Zmcp11xjTGLPbuvEz0hxnKZzmfycLD1ENy79zQPPzXOWPs0eOihQE7uzQIkQCuSBKiH+MeWf5dr/+pSYw0ICLAYoqbhOWqUM3eOOscnH8PMb0ybvU0YP7cXW4cksXdOO/pwjh3bHmDmNz3uB1avQawZcJoxJkd6aOQgxpseY0IH5hpCs1cY0a8eYM/FHoxvDVw8y9akDrxqVoO8LzX1OmF9rITgxYMs2taBV3+2sL51IA+nmAa1qAgSoB6iugSgK5QM0c6dO5czPIH9SWwikNUlm8qtAwkjiV8uQh8ySSKQfiW2CQ5+AFLNl5XqCggzJGQ7+g34hkVxWYwf2YTzcUmcHNDTSl9lFr+kPEA7y5VT2/u2DiQsKYlUsBmgV65csbFW2CMBKtySaYhu27aNdu3aOR+ejrqYyUm7G53jL49+w6awXsT9HGNs5rdZfn+LPn06MGb5Wc6PDC1uvlsbIGrCb0Kus+MiUKoPNMv2vhczSQoLZJKd0rZs2dLuOxLWyd2YhNsyhGj37t3LH56tA3mYTH65WGL5RbXW+ZvW1rdJTb1eYvsOrF5/v5l//nym+Q69wohOSmLPfrX53s9K890g6XxW6YUX7ex7MZOTIYHSfK9gEqDCrQUEBDBw4MDyH6h1D14dcJ25Q7ay17gwixUz98PLEWoz2bDNzIOcN2yyf6uFyfkmIXvxIFNMmvKqdvQbcJ2ty5M4OSDM5lSjPn06cDK1dICej0viZFggwVb2szf4JFxDAlSIYn3mzGDfy5nEPDqP1o/Oo/WjK9n61DizCel95oxjJvuJLN6mzd4w4l5+4P5BWvdg6cvwtyHF62fC0kUdSp8rphckwcwYOxP5e4URve0AKyzUeh9+KtRKDfMcn3wcyKsyhanCaRS5I65Nho9HURSzl16vL/VSFIWioiIKCwspKCggPz+f3NxcVq5cyaJFi6r4nVSs7Ozscu3foEEDAHJzc/HzrKXCuwAABwdJREFU83NFkaq34quH9pk09W1uuzfM4aumzq9bwxSi5EqkSiA1UCEqnXr1kPUaZAm9BrGab2gz+5zdTQ3X5Ut4Vg4ZhReiEhmuYtIMGMKFMoRcnzkzuODAdg+NjHFoO+EaEqDCqqyCQk7ey+Pnu/lcv51HZGA9HmvoR2BtucGds0xvaCLcnwSoMJOZn09i9l0OZ9/jaoFCLZ9a1PL24VJOIV9eus0/M3QEB9SmZ2N/wuvXokkteSqn8FwSoAKArRmXOHQzm8u5Bfh4++LjU4taXrUtbpuWW8TGa7l8m1lAkL8P04N8K7m0QlQPMogkAPURH7W9vPD28qLQgYkZd3Q5HL+QwYdxSZVQOiGqJ6mBCgAeDAhAG1AXb42GjPxCTunyuJyvUAjUKt7mXk4ul2/fJfVmDr8W+AD+UCS1T+G5JEBFKa1q1ybI1w9vjRfXi/SczS9i1bFUbine4O0HPgGAFxRUdUmFqFoSoMKmFj7eaGvV4lb9upCnSGgKYUL6QIUQwkkSoEII4SRpwguPsumrr0hI/I/V9d7e3jw3JJoujz5WiaUS7koCVNh0s0jPufwCyLgO9Rpyf0zePSUk/oc57861un72rJls+vorAAlRYZcEqCjl18JCTuvy+VmXz6UCBbx84GA8+NeFwObqy68hUDOnMA0eEi0hKhwiASoAyMrL47937nI0+x5XChS8vGvj5V0bb5/aeBt6yvPz4fp1uHkb/AKgXiOoU7Pu+tM5vAubv9kEwLffbJIAFTZJgAoAztzO5kDmTa4VKnj7OHA/ziI95NyjTZ3qXQvtuWwsp66ZPPGtFnz216eNP3ZsFsy+CZ8Zf35uSDTPDYkG1OZ8aTuYoNnMYGU5/UquSllCRNuNDE2O55UQ170HUX1JgAoAXmsbxmtt4dy9e+y4fpMDd3RcL7S8bZtGdRn8SFtGPtqWzs0bVm5By8gsPJ1YXyYhrxCvvOK644lqTwJUmGlXpw7tHqrDK0BKTh67buo4dDePNk0aMrhze0Z270TnVk2ruphlNuOJkUzsHk2nD4fz06SVfH/mAG9u/8S4/vvME7yX+j11vX1p4duALx4eY+NoQqhkHqiwKsTfl0ktG/GPds05/95kFkX3ccvwBPjs4L/Izr3LtjGLaOBXl3k/rjNb3y6gGd888mf+2PxxknUlHwJnzQ4maCKYMCECjWYCO4p/XpICkMKSCA0ajfqasMPS/pa2KblM/dls/x0T0EQsIcWJz0G4ltRAhUfIzr3LPxN3Mr33SObvW0d27l2z9f++eY7Vlw8QXi+ojEc+yMkOyShKCLCDzYbFOxYy9eHtKPGlekqLpbAkoi0bhyajxJt0mFrcbzyazTtY3k9dtmPzCsa/rSDdrFVPaqDCIzTwq8vE7tGcvPoLE7tH08Cvrtn61ZcP8EnYi8wKHlDGI/dg6LMWoqxtB3qs6E/EEiv1xJTv2XhwPG+XHG2ytF+/wYxfsRm1ErqDzScX84a1XBaVSgJUeIQZT4wkO/cuv/tkHNm5d3m//ySz9b0ateXd89t4N7XUQ96dE/IK8YrCOkbaaMI7ul8/3lh8kveWpJCy5D1ODn1Wap/VhDThhUd4c/snxkGjTh8OL7V+fttoknXXaBvQzKXnDXklnmQiGHkuBfolM0HzHh2S43kl5FmG9pjKe0veoJ+FOU/m+4UQ8uxQGLmQhTzM2/ESn9WF1EBFjdaxWbDD610anjsmGAeC2k59uHRTnRBeid/Ow1Pbmg8iWdsv5FmGsoIVDw8uPf9UVBmNojjw/AYPZvh4FEUxe+n1+lIvRVEoKiqisLCQgoIC8vPzyc3NZeXKlSxatKiK30nFys7OLtf+DRo0ACA3Nxc/Pwcm8jtp5ow3bF4Lb2r2rJnMnbewwsoi3J/UQIUQwknSByo8Spfwx6xcoml5WyFskQAVHiX6j38k+o9/rOpiiBpCAlQAoHkzzul9lfcjXVgSIdyHBKgwatX59zbXFylwPU+DXgEvDWhQvwrhqSRAhcOy8tW0rOUF3pr7ISqEp5IAFQ7JLlBrnrW8wEdzP0ClBio8mQSosCtfD7lFaniaBqi3GwXonROD1Dm96v9AgYuXdWw91pthw4axYcMGBnb6EW0Lf7z92tDgt5/YO6QQEqDCNr0Ctwo0anCaBKiPBry93GcisaIo1G/1R9T41IOi8GvaGUaOHEleXh7PP/88Gad/5ZGgtmRd/K6qiyvchOZccrICoHFpTaL8B3NteYxHrdgjVlltrOqqgWU+s5vUWIUdZbx+sWovd6y4s/ukXbxYemkVh1dhoZVnSVhRy8enrKcoB9ecpLCwoEzb1/Kx8jjhahpIBQVl/B3Wcr/HJZv9Dh34N+rjhu+xoKCM/53WqoaNWgX134mF31FBGf8d+pT4d/j/Afq1WR/atJiFAAAAAElFTkSuQmCC)"
      ]
    },
    {
      "cell_type": "markdown",
      "metadata": {
        "id": "oRB0DSLl2MHu"
      },
      "source": [
        "### Read Dataset"
      ]
    },
    {
      "cell_type": "code",
      "execution_count": null,
      "metadata": {
        "colab": {
          "base_uri": "https://localhost:8080/",
          "height": 424
        },
        "id": "Yv6oFDNG4ecR",
        "outputId": "0d40b306-80dd-4e19-9013-a897c76a1b78"
      },
      "outputs": [
        {
          "data": {
            "text/html": [
              "\n",
              "  <div id=\"df-260438fa-3683-4c8f-af63-fb09d06694e0\">\n",
              "    <div class=\"colab-df-container\">\n",
              "      <div>\n",
              "<style scoped>\n",
              "    .dataframe tbody tr th:only-of-type {\n",
              "        vertical-align: middle;\n",
              "    }\n",
              "\n",
              "    .dataframe tbody tr th {\n",
              "        vertical-align: top;\n",
              "    }\n",
              "\n",
              "    .dataframe thead th {\n",
              "        text-align: right;\n",
              "    }\n",
              "</style>\n",
              "<table border=\"1\" class=\"dataframe\">\n",
              "  <thead>\n",
              "    <tr style=\"text-align: right;\">\n",
              "      <th></th>\n",
              "      <th>Id</th>\n",
              "      <th>SepalLengthCm</th>\n",
              "      <th>SepalWidthCm</th>\n",
              "      <th>PetalLengthCm</th>\n",
              "      <th>PetalWidthCm</th>\n",
              "      <th>Species</th>\n",
              "    </tr>\n",
              "  </thead>\n",
              "  <tbody>\n",
              "    <tr>\n",
              "      <th>0</th>\n",
              "      <td>1</td>\n",
              "      <td>5.1</td>\n",
              "      <td>3.5</td>\n",
              "      <td>1.4</td>\n",
              "      <td>0.2</td>\n",
              "      <td>Iris-setosa</td>\n",
              "    </tr>\n",
              "    <tr>\n",
              "      <th>1</th>\n",
              "      <td>2</td>\n",
              "      <td>4.9</td>\n",
              "      <td>3.0</td>\n",
              "      <td>1.4</td>\n",
              "      <td>0.2</td>\n",
              "      <td>Iris-setosa</td>\n",
              "    </tr>\n",
              "    <tr>\n",
              "      <th>2</th>\n",
              "      <td>3</td>\n",
              "      <td>4.7</td>\n",
              "      <td>3.2</td>\n",
              "      <td>1.3</td>\n",
              "      <td>0.2</td>\n",
              "      <td>Iris-setosa</td>\n",
              "    </tr>\n",
              "    <tr>\n",
              "      <th>3</th>\n",
              "      <td>4</td>\n",
              "      <td>4.6</td>\n",
              "      <td>3.1</td>\n",
              "      <td>1.5</td>\n",
              "      <td>0.2</td>\n",
              "      <td>Iris-setosa</td>\n",
              "    </tr>\n",
              "    <tr>\n",
              "      <th>4</th>\n",
              "      <td>5</td>\n",
              "      <td>5.0</td>\n",
              "      <td>3.6</td>\n",
              "      <td>1.4</td>\n",
              "      <td>0.2</td>\n",
              "      <td>Iris-setosa</td>\n",
              "    </tr>\n",
              "    <tr>\n",
              "      <th>...</th>\n",
              "      <td>...</td>\n",
              "      <td>...</td>\n",
              "      <td>...</td>\n",
              "      <td>...</td>\n",
              "      <td>...</td>\n",
              "      <td>...</td>\n",
              "    </tr>\n",
              "    <tr>\n",
              "      <th>145</th>\n",
              "      <td>146</td>\n",
              "      <td>6.7</td>\n",
              "      <td>3.0</td>\n",
              "      <td>5.2</td>\n",
              "      <td>2.3</td>\n",
              "      <td>Iris-virginica</td>\n",
              "    </tr>\n",
              "    <tr>\n",
              "      <th>146</th>\n",
              "      <td>147</td>\n",
              "      <td>6.3</td>\n",
              "      <td>2.5</td>\n",
              "      <td>5.0</td>\n",
              "      <td>1.9</td>\n",
              "      <td>Iris-virginica</td>\n",
              "    </tr>\n",
              "    <tr>\n",
              "      <th>147</th>\n",
              "      <td>148</td>\n",
              "      <td>6.5</td>\n",
              "      <td>3.0</td>\n",
              "      <td>5.2</td>\n",
              "      <td>2.0</td>\n",
              "      <td>Iris-virginica</td>\n",
              "    </tr>\n",
              "    <tr>\n",
              "      <th>148</th>\n",
              "      <td>149</td>\n",
              "      <td>6.2</td>\n",
              "      <td>3.4</td>\n",
              "      <td>5.4</td>\n",
              "      <td>2.3</td>\n",
              "      <td>Iris-virginica</td>\n",
              "    </tr>\n",
              "    <tr>\n",
              "      <th>149</th>\n",
              "      <td>150</td>\n",
              "      <td>5.9</td>\n",
              "      <td>3.0</td>\n",
              "      <td>5.1</td>\n",
              "      <td>1.8</td>\n",
              "      <td>Iris-virginica</td>\n",
              "    </tr>\n",
              "  </tbody>\n",
              "</table>\n",
              "<p>150 rows × 6 columns</p>\n",
              "</div>\n",
              "      <button class=\"colab-df-convert\" onclick=\"convertToInteractive('df-260438fa-3683-4c8f-af63-fb09d06694e0')\"\n",
              "              title=\"Convert this dataframe to an interactive table.\"\n",
              "              style=\"display:none;\">\n",
              "        \n",
              "  <svg xmlns=\"http://www.w3.org/2000/svg\" height=\"24px\"viewBox=\"0 0 24 24\"\n",
              "       width=\"24px\">\n",
              "    <path d=\"M0 0h24v24H0V0z\" fill=\"none\"/>\n",
              "    <path d=\"M18.56 5.44l.94 2.06.94-2.06 2.06-.94-2.06-.94-.94-2.06-.94 2.06-2.06.94zm-11 1L8.5 8.5l.94-2.06 2.06-.94-2.06-.94L8.5 2.5l-.94 2.06-2.06.94zm10 10l.94 2.06.94-2.06 2.06-.94-2.06-.94-.94-2.06-.94 2.06-2.06.94z\"/><path d=\"M17.41 7.96l-1.37-1.37c-.4-.4-.92-.59-1.43-.59-.52 0-1.04.2-1.43.59L10.3 9.45l-7.72 7.72c-.78.78-.78 2.05 0 2.83L4 21.41c.39.39.9.59 1.41.59.51 0 1.02-.2 1.41-.59l7.78-7.78 2.81-2.81c.8-.78.8-2.07 0-2.86zM5.41 20L4 18.59l7.72-7.72 1.47 1.35L5.41 20z\"/>\n",
              "  </svg>\n",
              "      </button>\n",
              "      \n",
              "  <style>\n",
              "    .colab-df-container {\n",
              "      display:flex;\n",
              "      flex-wrap:wrap;\n",
              "      gap: 12px;\n",
              "    }\n",
              "\n",
              "    .colab-df-convert {\n",
              "      background-color: #E8F0FE;\n",
              "      border: none;\n",
              "      border-radius: 50%;\n",
              "      cursor: pointer;\n",
              "      display: none;\n",
              "      fill: #1967D2;\n",
              "      height: 32px;\n",
              "      padding: 0 0 0 0;\n",
              "      width: 32px;\n",
              "    }\n",
              "\n",
              "    .colab-df-convert:hover {\n",
              "      background-color: #E2EBFA;\n",
              "      box-shadow: 0px 1px 2px rgba(60, 64, 67, 0.3), 0px 1px 3px 1px rgba(60, 64, 67, 0.15);\n",
              "      fill: #174EA6;\n",
              "    }\n",
              "\n",
              "    [theme=dark] .colab-df-convert {\n",
              "      background-color: #3B4455;\n",
              "      fill: #D2E3FC;\n",
              "    }\n",
              "\n",
              "    [theme=dark] .colab-df-convert:hover {\n",
              "      background-color: #434B5C;\n",
              "      box-shadow: 0px 1px 3px 1px rgba(0, 0, 0, 0.15);\n",
              "      filter: drop-shadow(0px 1px 2px rgba(0, 0, 0, 0.3));\n",
              "      fill: #FFFFFF;\n",
              "    }\n",
              "  </style>\n",
              "\n",
              "      <script>\n",
              "        const buttonEl =\n",
              "          document.querySelector('#df-260438fa-3683-4c8f-af63-fb09d06694e0 button.colab-df-convert');\n",
              "        buttonEl.style.display =\n",
              "          google.colab.kernel.accessAllowed ? 'block' : 'none';\n",
              "\n",
              "        async function convertToInteractive(key) {\n",
              "          const element = document.querySelector('#df-260438fa-3683-4c8f-af63-fb09d06694e0');\n",
              "          const dataTable =\n",
              "            await google.colab.kernel.invokeFunction('convertToInteractive',\n",
              "                                                     [key], {});\n",
              "          if (!dataTable) return;\n",
              "\n",
              "          const docLinkHtml = 'Like what you see? Visit the ' +\n",
              "            '<a target=\"_blank\" href=https://colab.research.google.com/notebooks/data_table.ipynb>data table notebook</a>'\n",
              "            + ' to learn more about interactive tables.';\n",
              "          element.innerHTML = '';\n",
              "          dataTable['output_type'] = 'display_data';\n",
              "          await google.colab.output.renderOutput(dataTable, element);\n",
              "          const docLink = document.createElement('div');\n",
              "          docLink.innerHTML = docLinkHtml;\n",
              "          element.appendChild(docLink);\n",
              "        }\n",
              "      </script>\n",
              "    </div>\n",
              "  </div>\n",
              "  "
            ],
            "text/plain": [
              "      Id  SepalLengthCm  SepalWidthCm  PetalLengthCm  PetalWidthCm  \\\n",
              "0      1            5.1           3.5            1.4           0.2   \n",
              "1      2            4.9           3.0            1.4           0.2   \n",
              "2      3            4.7           3.2            1.3           0.2   \n",
              "3      4            4.6           3.1            1.5           0.2   \n",
              "4      5            5.0           3.6            1.4           0.2   \n",
              "..   ...            ...           ...            ...           ...   \n",
              "145  146            6.7           3.0            5.2           2.3   \n",
              "146  147            6.3           2.5            5.0           1.9   \n",
              "147  148            6.5           3.0            5.2           2.0   \n",
              "148  149            6.2           3.4            5.4           2.3   \n",
              "149  150            5.9           3.0            5.1           1.8   \n",
              "\n",
              "            Species  \n",
              "0       Iris-setosa  \n",
              "1       Iris-setosa  \n",
              "2       Iris-setosa  \n",
              "3       Iris-setosa  \n",
              "4       Iris-setosa  \n",
              "..              ...  \n",
              "145  Iris-virginica  \n",
              "146  Iris-virginica  \n",
              "147  Iris-virginica  \n",
              "148  Iris-virginica  \n",
              "149  Iris-virginica  \n",
              "\n",
              "[150 rows x 6 columns]"
            ]
          },
          "execution_count": 2,
          "metadata": {},
          "output_type": "execute_result"
        }
      ],
      "source": [
        "from sklearn import svm\n",
        "\n",
        "import pandas as pd\n",
        "\n",
        "df = pd.read_csv(\"Iris.csv\")\n",
        "\n",
        "df"
      ]
    },
    {
      "cell_type": "markdown",
      "metadata": {
        "id": "qIUD4ISZ4zVO"
      },
      "source": [
        "### Prepare Data\n",
        "\n",
        "Let’s take the \"SepalLengthCm\" , \"SepalWidthCm\", \"PetalLengthCm\", and \"PetalWidthCm\" and separate them into a smaller data frame. So that we can use them to train our model"
      ]
    },
    {
      "cell_type": "code",
      "execution_count": null,
      "metadata": {
        "colab": {
          "base_uri": "https://localhost:8080/",
          "height": 424
        },
        "id": "DRZ1H4DX4_DW",
        "outputId": "f28fd39e-5802-47b5-d530-228ef6837143"
      },
      "outputs": [
        {
          "data": {
            "text/html": [
              "\n",
              "  <div id=\"df-a5571563-51c9-4dfd-ad71-41be03c2778a\">\n",
              "    <div class=\"colab-df-container\">\n",
              "      <div>\n",
              "<style scoped>\n",
              "    .dataframe tbody tr th:only-of-type {\n",
              "        vertical-align: middle;\n",
              "    }\n",
              "\n",
              "    .dataframe tbody tr th {\n",
              "        vertical-align: top;\n",
              "    }\n",
              "\n",
              "    .dataframe thead th {\n",
              "        text-align: right;\n",
              "    }\n",
              "</style>\n",
              "<table border=\"1\" class=\"dataframe\">\n",
              "  <thead>\n",
              "    <tr style=\"text-align: right;\">\n",
              "      <th></th>\n",
              "      <th>SepalLengthCm</th>\n",
              "      <th>SepalWidthCm</th>\n",
              "      <th>PetalLengthCm</th>\n",
              "      <th>PetalWidthCm</th>\n",
              "    </tr>\n",
              "  </thead>\n",
              "  <tbody>\n",
              "    <tr>\n",
              "      <th>0</th>\n",
              "      <td>5.1</td>\n",
              "      <td>3.5</td>\n",
              "      <td>1.4</td>\n",
              "      <td>0.2</td>\n",
              "    </tr>\n",
              "    <tr>\n",
              "      <th>1</th>\n",
              "      <td>4.9</td>\n",
              "      <td>3.0</td>\n",
              "      <td>1.4</td>\n",
              "      <td>0.2</td>\n",
              "    </tr>\n",
              "    <tr>\n",
              "      <th>2</th>\n",
              "      <td>4.7</td>\n",
              "      <td>3.2</td>\n",
              "      <td>1.3</td>\n",
              "      <td>0.2</td>\n",
              "    </tr>\n",
              "    <tr>\n",
              "      <th>3</th>\n",
              "      <td>4.6</td>\n",
              "      <td>3.1</td>\n",
              "      <td>1.5</td>\n",
              "      <td>0.2</td>\n",
              "    </tr>\n",
              "    <tr>\n",
              "      <th>4</th>\n",
              "      <td>5.0</td>\n",
              "      <td>3.6</td>\n",
              "      <td>1.4</td>\n",
              "      <td>0.2</td>\n",
              "    </tr>\n",
              "    <tr>\n",
              "      <th>...</th>\n",
              "      <td>...</td>\n",
              "      <td>...</td>\n",
              "      <td>...</td>\n",
              "      <td>...</td>\n",
              "    </tr>\n",
              "    <tr>\n",
              "      <th>145</th>\n",
              "      <td>6.7</td>\n",
              "      <td>3.0</td>\n",
              "      <td>5.2</td>\n",
              "      <td>2.3</td>\n",
              "    </tr>\n",
              "    <tr>\n",
              "      <th>146</th>\n",
              "      <td>6.3</td>\n",
              "      <td>2.5</td>\n",
              "      <td>5.0</td>\n",
              "      <td>1.9</td>\n",
              "    </tr>\n",
              "    <tr>\n",
              "      <th>147</th>\n",
              "      <td>6.5</td>\n",
              "      <td>3.0</td>\n",
              "      <td>5.2</td>\n",
              "      <td>2.0</td>\n",
              "    </tr>\n",
              "    <tr>\n",
              "      <th>148</th>\n",
              "      <td>6.2</td>\n",
              "      <td>3.4</td>\n",
              "      <td>5.4</td>\n",
              "      <td>2.3</td>\n",
              "    </tr>\n",
              "    <tr>\n",
              "      <th>149</th>\n",
              "      <td>5.9</td>\n",
              "      <td>3.0</td>\n",
              "      <td>5.1</td>\n",
              "      <td>1.8</td>\n",
              "    </tr>\n",
              "  </tbody>\n",
              "</table>\n",
              "<p>150 rows × 4 columns</p>\n",
              "</div>\n",
              "      <button class=\"colab-df-convert\" onclick=\"convertToInteractive('df-a5571563-51c9-4dfd-ad71-41be03c2778a')\"\n",
              "              title=\"Convert this dataframe to an interactive table.\"\n",
              "              style=\"display:none;\">\n",
              "        \n",
              "  <svg xmlns=\"http://www.w3.org/2000/svg\" height=\"24px\"viewBox=\"0 0 24 24\"\n",
              "       width=\"24px\">\n",
              "    <path d=\"M0 0h24v24H0V0z\" fill=\"none\"/>\n",
              "    <path d=\"M18.56 5.44l.94 2.06.94-2.06 2.06-.94-2.06-.94-.94-2.06-.94 2.06-2.06.94zm-11 1L8.5 8.5l.94-2.06 2.06-.94-2.06-.94L8.5 2.5l-.94 2.06-2.06.94zm10 10l.94 2.06.94-2.06 2.06-.94-2.06-.94-.94-2.06-.94 2.06-2.06.94z\"/><path d=\"M17.41 7.96l-1.37-1.37c-.4-.4-.92-.59-1.43-.59-.52 0-1.04.2-1.43.59L10.3 9.45l-7.72 7.72c-.78.78-.78 2.05 0 2.83L4 21.41c.39.39.9.59 1.41.59.51 0 1.02-.2 1.41-.59l7.78-7.78 2.81-2.81c.8-.78.8-2.07 0-2.86zM5.41 20L4 18.59l7.72-7.72 1.47 1.35L5.41 20z\"/>\n",
              "  </svg>\n",
              "      </button>\n",
              "      \n",
              "  <style>\n",
              "    .colab-df-container {\n",
              "      display:flex;\n",
              "      flex-wrap:wrap;\n",
              "      gap: 12px;\n",
              "    }\n",
              "\n",
              "    .colab-df-convert {\n",
              "      background-color: #E8F0FE;\n",
              "      border: none;\n",
              "      border-radius: 50%;\n",
              "      cursor: pointer;\n",
              "      display: none;\n",
              "      fill: #1967D2;\n",
              "      height: 32px;\n",
              "      padding: 0 0 0 0;\n",
              "      width: 32px;\n",
              "    }\n",
              "\n",
              "    .colab-df-convert:hover {\n",
              "      background-color: #E2EBFA;\n",
              "      box-shadow: 0px 1px 2px rgba(60, 64, 67, 0.3), 0px 1px 3px 1px rgba(60, 64, 67, 0.15);\n",
              "      fill: #174EA6;\n",
              "    }\n",
              "\n",
              "    [theme=dark] .colab-df-convert {\n",
              "      background-color: #3B4455;\n",
              "      fill: #D2E3FC;\n",
              "    }\n",
              "\n",
              "    [theme=dark] .colab-df-convert:hover {\n",
              "      background-color: #434B5C;\n",
              "      box-shadow: 0px 1px 3px 1px rgba(0, 0, 0, 0.15);\n",
              "      filter: drop-shadow(0px 1px 2px rgba(0, 0, 0, 0.3));\n",
              "      fill: #FFFFFF;\n",
              "    }\n",
              "  </style>\n",
              "\n",
              "      <script>\n",
              "        const buttonEl =\n",
              "          document.querySelector('#df-a5571563-51c9-4dfd-ad71-41be03c2778a button.colab-df-convert');\n",
              "        buttonEl.style.display =\n",
              "          google.colab.kernel.accessAllowed ? 'block' : 'none';\n",
              "\n",
              "        async function convertToInteractive(key) {\n",
              "          const element = document.querySelector('#df-a5571563-51c9-4dfd-ad71-41be03c2778a');\n",
              "          const dataTable =\n",
              "            await google.colab.kernel.invokeFunction('convertToInteractive',\n",
              "                                                     [key], {});\n",
              "          if (!dataTable) return;\n",
              "\n",
              "          const docLinkHtml = 'Like what you see? Visit the ' +\n",
              "            '<a target=\"_blank\" href=https://colab.research.google.com/notebooks/data_table.ipynb>data table notebook</a>'\n",
              "            + ' to learn more about interactive tables.';\n",
              "          element.innerHTML = '';\n",
              "          dataTable['output_type'] = 'display_data';\n",
              "          await google.colab.output.renderOutput(dataTable, element);\n",
              "          const docLink = document.createElement('div');\n",
              "          docLink.innerHTML = docLinkHtml;\n",
              "          element.appendChild(docLink);\n",
              "        }\n",
              "      </script>\n",
              "    </div>\n",
              "  </div>\n",
              "  "
            ],
            "text/plain": [
              "     SepalLengthCm  SepalWidthCm  PetalLengthCm  PetalWidthCm\n",
              "0              5.1           3.5            1.4           0.2\n",
              "1              4.9           3.0            1.4           0.2\n",
              "2              4.7           3.2            1.3           0.2\n",
              "3              4.6           3.1            1.5           0.2\n",
              "4              5.0           3.6            1.4           0.2\n",
              "..             ...           ...            ...           ...\n",
              "145            6.7           3.0            5.2           2.3\n",
              "146            6.3           2.5            5.0           1.9\n",
              "147            6.5           3.0            5.2           2.0\n",
              "148            6.2           3.4            5.4           2.3\n",
              "149            5.9           3.0            5.1           1.8\n",
              "\n",
              "[150 rows x 4 columns]"
            ]
          },
          "execution_count": 5,
          "metadata": {},
          "output_type": "execute_result"
        }
      ],
      "source": [
        "X = df[['SepalLengthCm', 'SepalWidthCm', 'PetalLengthCm', 'PetalWidthCm']]\n",
        "X"
      ]
    },
    {
      "cell_type": "markdown",
      "metadata": {
        "id": "KhP1wUyI5ECD"
      },
      "source": [
        "Now let's do the same thing, but for the species of flower."
      ]
    },
    {
      "cell_type": "code",
      "execution_count": null,
      "metadata": {
        "colab": {
          "base_uri": "https://localhost:8080/",
          "height": 424
        },
        "id": "k8UDS-275FZL",
        "outputId": "513b318b-c173-44c6-e2ef-a6b58b85af0c"
      },
      "outputs": [
        {
          "data": {
            "text/html": [
              "\n",
              "  <div id=\"df-4172d9b3-7318-493b-b5bb-44a47fba67df\">\n",
              "    <div class=\"colab-df-container\">\n",
              "      <div>\n",
              "<style scoped>\n",
              "    .dataframe tbody tr th:only-of-type {\n",
              "        vertical-align: middle;\n",
              "    }\n",
              "\n",
              "    .dataframe tbody tr th {\n",
              "        vertical-align: top;\n",
              "    }\n",
              "\n",
              "    .dataframe thead th {\n",
              "        text-align: right;\n",
              "    }\n",
              "</style>\n",
              "<table border=\"1\" class=\"dataframe\">\n",
              "  <thead>\n",
              "    <tr style=\"text-align: right;\">\n",
              "      <th></th>\n",
              "      <th>Species</th>\n",
              "    </tr>\n",
              "  </thead>\n",
              "  <tbody>\n",
              "    <tr>\n",
              "      <th>0</th>\n",
              "      <td>Iris-setosa</td>\n",
              "    </tr>\n",
              "    <tr>\n",
              "      <th>1</th>\n",
              "      <td>Iris-setosa</td>\n",
              "    </tr>\n",
              "    <tr>\n",
              "      <th>2</th>\n",
              "      <td>Iris-setosa</td>\n",
              "    </tr>\n",
              "    <tr>\n",
              "      <th>3</th>\n",
              "      <td>Iris-setosa</td>\n",
              "    </tr>\n",
              "    <tr>\n",
              "      <th>4</th>\n",
              "      <td>Iris-setosa</td>\n",
              "    </tr>\n",
              "    <tr>\n",
              "      <th>...</th>\n",
              "      <td>...</td>\n",
              "    </tr>\n",
              "    <tr>\n",
              "      <th>145</th>\n",
              "      <td>Iris-virginica</td>\n",
              "    </tr>\n",
              "    <tr>\n",
              "      <th>146</th>\n",
              "      <td>Iris-virginica</td>\n",
              "    </tr>\n",
              "    <tr>\n",
              "      <th>147</th>\n",
              "      <td>Iris-virginica</td>\n",
              "    </tr>\n",
              "    <tr>\n",
              "      <th>148</th>\n",
              "      <td>Iris-virginica</td>\n",
              "    </tr>\n",
              "    <tr>\n",
              "      <th>149</th>\n",
              "      <td>Iris-virginica</td>\n",
              "    </tr>\n",
              "  </tbody>\n",
              "</table>\n",
              "<p>150 rows × 1 columns</p>\n",
              "</div>\n",
              "      <button class=\"colab-df-convert\" onclick=\"convertToInteractive('df-4172d9b3-7318-493b-b5bb-44a47fba67df')\"\n",
              "              title=\"Convert this dataframe to an interactive table.\"\n",
              "              style=\"display:none;\">\n",
              "        \n",
              "  <svg xmlns=\"http://www.w3.org/2000/svg\" height=\"24px\"viewBox=\"0 0 24 24\"\n",
              "       width=\"24px\">\n",
              "    <path d=\"M0 0h24v24H0V0z\" fill=\"none\"/>\n",
              "    <path d=\"M18.56 5.44l.94 2.06.94-2.06 2.06-.94-2.06-.94-.94-2.06-.94 2.06-2.06.94zm-11 1L8.5 8.5l.94-2.06 2.06-.94-2.06-.94L8.5 2.5l-.94 2.06-2.06.94zm10 10l.94 2.06.94-2.06 2.06-.94-2.06-.94-.94-2.06-.94 2.06-2.06.94z\"/><path d=\"M17.41 7.96l-1.37-1.37c-.4-.4-.92-.59-1.43-.59-.52 0-1.04.2-1.43.59L10.3 9.45l-7.72 7.72c-.78.78-.78 2.05 0 2.83L4 21.41c.39.39.9.59 1.41.59.51 0 1.02-.2 1.41-.59l7.78-7.78 2.81-2.81c.8-.78.8-2.07 0-2.86zM5.41 20L4 18.59l7.72-7.72 1.47 1.35L5.41 20z\"/>\n",
              "  </svg>\n",
              "      </button>\n",
              "      \n",
              "  <style>\n",
              "    .colab-df-container {\n",
              "      display:flex;\n",
              "      flex-wrap:wrap;\n",
              "      gap: 12px;\n",
              "    }\n",
              "\n",
              "    .colab-df-convert {\n",
              "      background-color: #E8F0FE;\n",
              "      border: none;\n",
              "      border-radius: 50%;\n",
              "      cursor: pointer;\n",
              "      display: none;\n",
              "      fill: #1967D2;\n",
              "      height: 32px;\n",
              "      padding: 0 0 0 0;\n",
              "      width: 32px;\n",
              "    }\n",
              "\n",
              "    .colab-df-convert:hover {\n",
              "      background-color: #E2EBFA;\n",
              "      box-shadow: 0px 1px 2px rgba(60, 64, 67, 0.3), 0px 1px 3px 1px rgba(60, 64, 67, 0.15);\n",
              "      fill: #174EA6;\n",
              "    }\n",
              "\n",
              "    [theme=dark] .colab-df-convert {\n",
              "      background-color: #3B4455;\n",
              "      fill: #D2E3FC;\n",
              "    }\n",
              "\n",
              "    [theme=dark] .colab-df-convert:hover {\n",
              "      background-color: #434B5C;\n",
              "      box-shadow: 0px 1px 3px 1px rgba(0, 0, 0, 0.15);\n",
              "      filter: drop-shadow(0px 1px 2px rgba(0, 0, 0, 0.3));\n",
              "      fill: #FFFFFF;\n",
              "    }\n",
              "  </style>\n",
              "\n",
              "      <script>\n",
              "        const buttonEl =\n",
              "          document.querySelector('#df-4172d9b3-7318-493b-b5bb-44a47fba67df button.colab-df-convert');\n",
              "        buttonEl.style.display =\n",
              "          google.colab.kernel.accessAllowed ? 'block' : 'none';\n",
              "\n",
              "        async function convertToInteractive(key) {\n",
              "          const element = document.querySelector('#df-4172d9b3-7318-493b-b5bb-44a47fba67df');\n",
              "          const dataTable =\n",
              "            await google.colab.kernel.invokeFunction('convertToInteractive',\n",
              "                                                     [key], {});\n",
              "          if (!dataTable) return;\n",
              "\n",
              "          const docLinkHtml = 'Like what you see? Visit the ' +\n",
              "            '<a target=\"_blank\" href=https://colab.research.google.com/notebooks/data_table.ipynb>data table notebook</a>'\n",
              "            + ' to learn more about interactive tables.';\n",
              "          element.innerHTML = '';\n",
              "          dataTable['output_type'] = 'display_data';\n",
              "          await google.colab.output.renderOutput(dataTable, element);\n",
              "          const docLink = document.createElement('div');\n",
              "          docLink.innerHTML = docLinkHtml;\n",
              "          element.appendChild(docLink);\n",
              "        }\n",
              "      </script>\n",
              "    </div>\n",
              "  </div>\n",
              "  "
            ],
            "text/plain": [
              "            Species\n",
              "0       Iris-setosa\n",
              "1       Iris-setosa\n",
              "2       Iris-setosa\n",
              "3       Iris-setosa\n",
              "4       Iris-setosa\n",
              "..              ...\n",
              "145  Iris-virginica\n",
              "146  Iris-virginica\n",
              "147  Iris-virginica\n",
              "148  Iris-virginica\n",
              "149  Iris-virginica\n",
              "\n",
              "[150 rows x 1 columns]"
            ]
          },
          "execution_count": 6,
          "metadata": {},
          "output_type": "execute_result"
        }
      ],
      "source": [
        "Y = df[['Species']]\n",
        "Y"
      ]
    },
    {
      "cell_type": "markdown",
      "metadata": {
        "id": "UW1eJfD25PiP"
      },
      "source": [
        "### Label Encoder\n",
        "Now before we train our model we have to encode the species data into numerical values. The way that the species data is currently stored is a text string value. However, the machine learning model needs the data to be a numerical value, so to do this we will use a library called label encoder.\n"
      ]
    },
    {
      "cell_type": "code",
      "execution_count": null,
      "metadata": {
        "id": "emZy3lVB5ez_"
      },
      "outputs": [],
      "source": [
        "from sklearn.preprocessing import LabelEncoder\n",
        "\n",
        "le = LabelEncoder()\n",
        "\n",
        "yEncoded = le.fit_transform(Y['Species'])"
      ]
    },
    {
      "cell_type": "markdown",
      "metadata": {
        "id": "AgRF1Xsa5eHX"
      },
      "source": [
        "Note that we pass in Y[‘Species’] instead of just Y. This is because the le.fit_transform function is expecting a list and not the whole dataframe.Y[‘Species’] will return the values underneath the column labeled species.\n",
        "\n",
        "If we print yEncoded the following values will be returned numerical data. The text species data has been encoded as numerical data"
      ]
    },
    {
      "cell_type": "code",
      "execution_count": null,
      "metadata": {
        "colab": {
          "base_uri": "https://localhost:8080/"
        },
        "id": "Ae07LxUf6H6Q",
        "outputId": "ef19ca25-8021-4d46-bb3a-1ab34c19381e"
      },
      "outputs": [
        {
          "name": "stdout",
          "output_type": "stream",
          "text": [
            "[0 0 0 0 0 0 0 0 0 0 0 0 0 0 0 0 0 0 0 0 0 0 0 0 0 0 0 0 0 0 0 0 0 0 0 0 0\n",
            " 0 0 0 0 0 0 0 0 0 0 0 0 0 1 1 1 1 1 1 1 1 1 1 1 1 1 1 1 1 1 1 1 1 1 1 1 1\n",
            " 1 1 1 1 1 1 1 1 1 1 1 1 1 1 1 1 1 1 1 1 1 1 1 1 1 1 2 2 2 2 2 2 2 2 2 2 2\n",
            " 2 2 2 2 2 2 2 2 2 2 2 2 2 2 2 2 2 2 2 2 2 2 2 2 2 2 2 2 2 2 2 2 2 2 2 2 2\n",
            " 2 2]\n"
          ]
        }
      ],
      "source": [
        "print(yEncoded)"
      ]
    },
    {
      "cell_type": "markdown",
      "metadata": {
        "id": "ghMNlX-X6Yyg"
      },
      "source": [
        "### Train Model"
      ]
    },
    {
      "cell_type": "code",
      "execution_count": null,
      "metadata": {
        "colab": {
          "base_uri": "https://localhost:8080/"
        },
        "id": "YhU9p5RT6X1Y",
        "outputId": "f01d1a4a-5fa2-4a37-8920-8c98c05ece54"
      },
      "outputs": [
        {
          "data": {
            "text/plain": [
              "SVC()"
            ]
          },
          "execution_count": 9,
          "metadata": {},
          "output_type": "execute_result"
        }
      ],
      "source": [
        "irisPredictionModel = svm.SVC()\n",
        "\n",
        "irisPredictionModel.fit(X, yEncoded)"
      ]
    },
    {
      "cell_type": "markdown",
      "metadata": {
        "id": "p3BuHLwA6ioo"
      },
      "source": [
        "Now that our model is trained lets go try to predict a flower. We'll try to predict a flower with SepalLengthCm of 4.9 , SepalWidthCm of 3 , PetalLengthCm of 1.4 , and a PetalWidthCm of .2"
      ]
    },
    {
      "cell_type": "code",
      "execution_count": null,
      "metadata": {
        "colab": {
          "base_uri": "https://localhost:8080/"
        },
        "id": "rojHDY8Q6iCe",
        "outputId": "99013ed3-58a2-420e-ee95-834cd461ca64"
      },
      "outputs": [
        {
          "name": "stdout",
          "output_type": "stream",
          "text": [
            "[0]\n"
          ]
        },
        {
          "name": "stderr",
          "output_type": "stream",
          "text": [
            "/usr/local/lib/python3.7/dist-packages/sklearn/base.py:451: UserWarning: X does not have valid feature names, but SVC was fitted with feature names\n",
            "  \"X does not have valid feature names, but\"\n"
          ]
        }
      ],
      "source": [
        "prediction = irisPredictionModel.predict([[ 4.9, 3, 1.4, .2]] )\n",
        "\n",
        "print(prediction)"
      ]
    },
    {
      "cell_type": "markdown",
      "metadata": {
        "id": "rXsmU0xY7KLv"
      },
      "source": [
        "### Decode \n",
        "Now our final step will be to translate the encoded number back to its corresponding value."
      ]
    },
    {
      "cell_type": "code",
      "execution_count": null,
      "metadata": {
        "colab": {
          "base_uri": "https://localhost:8080/"
        },
        "id": "5L_GYYjb7WU0",
        "outputId": "d47def34-29c5-4819-8a90-0a399af3c677"
      },
      "outputs": [
        {
          "name": "stdout",
          "output_type": "stream",
          "text": [
            "['Iris-setosa']\n"
          ]
        }
      ],
      "source": [
        "returnToOrginal = le.inverse_transform(prediction)\n",
        "\n",
        "print(returnToOrginal)"
      ]
    },
    {
      "cell_type": "markdown",
      "metadata": {
        "id": "yUyBO0fZ7crq"
      },
      "source": [
        "### Class exercise\n",
        "\n",
        "Try predicting different numbers for the sepal length and width as well as the petal length and observe the model pick different classifications."
      ]
    },
    {
      "cell_type": "markdown",
      "metadata": {
        "id": "ZMu-8ZD0_ITP"
      },
      "source": [
        "## Random Forest"
      ]
    },
    {
      "cell_type": "markdown",
      "metadata": {
        "id": "UW8xXZ3A_SWM"
      },
      "source": [
        "### Train Model"
      ]
    },
    {
      "cell_type": "code",
      "execution_count": null,
      "metadata": {
        "colab": {
          "base_uri": "https://localhost:8080/"
        },
        "id": "bMOLk1MP_SWO",
        "outputId": "269820a1-ca91-473d-aaf1-a6c496cffd7b"
      },
      "outputs": [
        {
          "data": {
            "text/plain": [
              "RandomForestClassifier()"
            ]
          },
          "execution_count": 13,
          "metadata": {},
          "output_type": "execute_result"
        }
      ],
      "source": [
        "from sklearn.ensemble import RandomForestClassifier\n",
        "irisRandomModel = RandomForestClassifier()\n",
        "\n",
        "irisRandomModel.fit(X, yEncoded)"
      ]
    },
    {
      "cell_type": "markdown",
      "metadata": {
        "id": "8lRIUXR__SWR"
      },
      "source": [
        "Now that our model is trained lets go try to predict a flower. We'll try to predict a flower with SepalLengthCm of 4.9 , SepalWidthCm of 3 , PetalLengthCm of 1.4 , and a PetalWidthCm of .2"
      ]
    },
    {
      "cell_type": "code",
      "execution_count": null,
      "metadata": {
        "colab": {
          "base_uri": "https://localhost:8080/",
          "height": 201
        },
        "id": "2EVD328X_SWR",
        "outputId": "d790726f-11fc-4e7c-a4c9-10f144cde7d8"
      },
      "outputs": [
        {
          "output_type": "error",
          "ename": "NameError",
          "evalue": "ignored",
          "traceback": [
            "\u001b[0;31m---------------------------------------------------------------------------\u001b[0m",
            "\u001b[0;31mNameError\u001b[0m                                 Traceback (most recent call last)",
            "\u001b[0;32m<ipython-input-2-ac31d8d0d0af>\u001b[0m in \u001b[0;36m<module>\u001b[0;34m()\u001b[0m\n\u001b[0;32m----> 1\u001b[0;31m \u001b[0mprediction\u001b[0m \u001b[0;34m=\u001b[0m \u001b[0mirisRandomModel\u001b[0m\u001b[0;34m.\u001b[0m\u001b[0mpredict\u001b[0m\u001b[0;34m(\u001b[0m\u001b[0;34m[\u001b[0m\u001b[0;34m[\u001b[0m \u001b[0;36m4.9\u001b[0m\u001b[0;34m,\u001b[0m \u001b[0;36m3\u001b[0m\u001b[0;34m,\u001b[0m \u001b[0;36m1.4\u001b[0m\u001b[0;34m,\u001b[0m \u001b[0;36m.2\u001b[0m\u001b[0;34m]\u001b[0m\u001b[0;34m]\u001b[0m \u001b[0;34m)\u001b[0m\u001b[0;34m\u001b[0m\u001b[0;34m\u001b[0m\u001b[0m\n\u001b[0m\u001b[1;32m      2\u001b[0m \u001b[0;34m\u001b[0m\u001b[0m\n\u001b[1;32m      3\u001b[0m \u001b[0mprint\u001b[0m\u001b[0;34m(\u001b[0m\u001b[0mprediction\u001b[0m\u001b[0;34m)\u001b[0m\u001b[0;34m\u001b[0m\u001b[0;34m\u001b[0m\u001b[0m\n",
            "\u001b[0;31mNameError\u001b[0m: name 'irisRandomModel' is not defined"
          ]
        }
      ],
      "source": [
        "prediction = irisRandomModel.predict([[ 4.9, 3, 1.4, .2]] )\n",
        "\n",
        "print(prediction)"
      ]
    },
    {
      "cell_type": "markdown",
      "metadata": {
        "id": "kEMbTpqICON3"
      },
      "source": [
        "## Rock, Paper, Scissors\n",
        "\n"
      ]
    },
    {
      "cell_type": "markdown",
      "metadata": {
        "id": "iYr0cmRICuR_"
      },
      "source": [
        "### Random Choices\n",
        "\n",
        "First, let’s build a basic RPS program where we will compete against a computer picking random.\n",
        "\n",
        "This program will just have us taking a user’s input to pick between 1) rock 2) paper or 3) scissors.\n",
        "\n",
        "On the computer’s side, it will just pick a random choice."
      ]
    },
    {
      "cell_type": "code",
      "execution_count": null,
      "metadata": {
        "id": "tRhbyAu97nEk"
      },
      "outputs": [],
      "source": [
        "import random\n",
        "def input_choices():\n",
        "  comp = random.randint(1,3)\n",
        "  user = int(input(\"Please enter a number: 1) Rock 2) Paper or 3) Scissors\"))\n",
        "  print('comp:', comp)\n",
        "  return comp, user"
      ]
    },
    {
      "cell_type": "markdown",
      "metadata": {
        "id": "tpQJsKb-CpNH"
      },
      "source": [
        "Then, we simply check the inputs for each possible case (win, loss, or tie for each choice)"
      ]
    },
    {
      "cell_type": "code",
      "execution_count": null,
      "metadata": {
        "id": "HmtqWmR7ConL"
      },
      "outputs": [],
      "source": [
        "def who_wins(comp,user):\n",
        "  if comp == 1 and user == 1:\n",
        "    print(\"It’s a tie!\")\n",
        "  elif comp == 1 and user == 2:\n",
        "    print(\"The user wins!\")\n",
        "  elif comp == 1 and user == 3:\n",
        "    print(\"The comp wins!\")   \n",
        "  elif comp == 2 and user == 1:\n",
        "    print(\"The comp wins!\")\n",
        "  elif comp == 2 and user == 2:\n",
        "    print(\"It’s a tie!\")\n",
        "  elif comp == 2 and user == 3:\n",
        "    print(\"The user wins!\")\n",
        "  elif comp == 3 and user == 1:\n",
        "    print(\"The user wins!\")\n",
        "  elif comp == 3 and user == 2:\n",
        "    print(\"The comp wins!\")\n",
        "  elif comp == 3 and user == 3:\n",
        "    print(\"It’s a tie!!\")"
      ]
    },
    {
      "cell_type": "markdown",
      "metadata": {
        "id": "4_vlONCiDq02"
      },
      "source": [
        "#### Loops\n",
        "Lastly, let’s just add a for loop for the game to run multiple times. Putting all of the previous code inside of the for loop, the loop would look like the following"
      ]
    },
    {
      "cell_type": "code",
      "execution_count": null,
      "metadata": {
        "colab": {
          "base_uri": "https://localhost:8080/"
        },
        "id": "5qbEqMKhDqMl",
        "outputId": "bf6055b7-406e-4ca4-ca40-d67c5733c140"
      },
      "outputs": [
        {
          "output_type": "stream",
          "name": "stdout",
          "text": [
            "Game 1\n",
            "Please enter a number: 1) Rock 2) Paper or 3) Scissors1\n",
            "comp: 2\n",
            "The comp wins!\n",
            "Game 2\n",
            "Please enter a number: 1) Rock 2) Paper or 3) Scissors1\n",
            "comp: 1\n",
            "It’s a tie!\n",
            "Game 3\n",
            "Please enter a number: 1) Rock 2) Paper or 3) Scissors1\n",
            "comp: 1\n",
            "It’s a tie!\n",
            "Game 4\n",
            "Please enter a number: 1) Rock 2) Paper or 3) Scissors1\n",
            "comp: 3\n",
            "The user wins!\n",
            "Game 5\n",
            "Please enter a number: 1) Rock 2) Paper or 3) Scissors1\n",
            "comp: 3\n",
            "The user wins!\n",
            "Game 6\n",
            "Please enter a number: 1) Rock 2) Paper or 3) Scissors1\n",
            "comp: 3\n",
            "The user wins!\n",
            "Game 7\n",
            "Please enter a number: 1) Rock 2) Paper or 3) Scissors1\n",
            "comp: 2\n",
            "The comp wins!\n",
            "Game 8\n",
            "Please enter a number: 1) Rock 2) Paper or 3) Scissors1\n",
            "comp: 1\n",
            "It’s a tie!\n",
            "Game 9\n",
            "Please enter a number: 1) Rock 2) Paper or 3) Scissors1\n",
            "comp: 1\n",
            "It’s a tie!\n",
            "Game 10\n",
            "Please enter a number: 1) Rock 2) Paper or 3) Scissors1\n",
            "comp: 2\n",
            "The comp wins!\n"
          ]
        }
      ],
      "source": [
        "for i in range(10):\n",
        "  print('Game', i+1)\n",
        "  comp, user = input_choices()\n",
        "  who_wins(comp,user)"
      ]
    },
    {
      "cell_type": "markdown",
      "metadata": {
        "id": "z2RjHC7lE9ne"
      },
      "source": [
        "### AI Model\n",
        "When playing this game, what is the chance I (or the computer) would win? Since both of us would essentially be picking at random, we would each have a ⅓ chance of winning (33.3%). That is not a very efficient AI player.\n",
        "\n",
        "If we take a collection of our previous match history, we can use that with our machine learning model to predict the next moves. For example, if the computer looks at our previous 5 games it can use that data to predict the 6th game. Of the models we have learned so far, which do you think would be most optimal?\n",
        "\n",
        "While many would work, let’s start by using SVM. By classifying our prediction of the user into one of the 3 options, the AI can just choose the option that let’s them win!\n",
        "\n",
        "Let’s use our regular Rock Paper Scissors game as the base and add our machine learning into it.\n",
        "\n",
        "First, let’s import the proper library. Next, we will need to set up the initial design for our AI. What will the AI use to predict the opponent’s next move? Let’s try using their previous moves. By setting up the history of what the opponent has chosen, we can predict what they may throw next. If they have certain player habits or patterns they use (whether intentionally or not) our AI should be able to adapt to them."
      ]
    },
    {
      "cell_type": "code",
      "execution_count": null,
      "metadata": {
        "id": "sF-GN-OyFFy6"
      },
      "outputs": [],
      "source": [
        "from sklearn import svm \n",
        "history = [1,1,3,2]"
      ]
    },
    {
      "cell_type": "markdown",
      "metadata": {
        "id": "RA9PbhJRFca-"
      },
      "source": [
        "We are going to use the last 2 choices the user has made as our predictor. We have filled in 4 random choices, though, just so that we can get started with the program.\n",
        "\n",
        "Next, let us set up our input and output data. As mentioned above, we are going to take in the previous user choices as our input. We will then predict what they are going to throw next. This will be our output."
      ]
    },
    {
      "cell_type": "code",
      "execution_count": null,
      "metadata": {
        "id": "Qqq9xzzAFwNl"
      },
      "outputs": [],
      "source": [
        "input_data = [  \n",
        "[1,1], # [history[0],history[1]]\n",
        "[1,3], # [history[1],history[2]]\n",
        "[3,2], # [history[2],history[3]]\n",
        "[2,1]] # [history[3],history[0]]\n",
        "\n",
        "#predict what they are going to throw next\n",
        "output_data = [3,2,1,1]  # [history[2],history[3],history[0],history[1]]"
      ]
    },
    {
      "cell_type": "markdown",
      "metadata": {
        "id": "IefBVdDDF4OG"
      },
      "source": [
        "These are simply some player habits we came up with. For example, we are setting up our initial data to state that if they just did rock twice (1,1) then they are likely to throw scissors next (3). Or, if they just did scissors and then paper (3,2) they are likely to throw rock next (1)!\n",
        "\n"
      ]
    },
    {
      "cell_type": "markdown",
      "metadata": {
        "id": "bvFAIAmrHCpv"
      },
      "source": [
        "#### Train Model\n",
        "\n",
        "Once we have established our input and output training data we can create/fit our model."
      ]
    },
    {
      "cell_type": "code",
      "execution_count": null,
      "metadata": {
        "colab": {
          "base_uri": "https://localhost:8080/"
        },
        "id": "zkkcIAnhHH5Z",
        "outputId": "04cfc127-841e-4120-de6c-0c9ef84d47a4"
      },
      "outputs": [
        {
          "output_type": "execute_result",
          "data": {
            "text/plain": [
              "SVC()"
            ]
          },
          "metadata": {},
          "execution_count": 11
        }
      ],
      "source": [
        "model = svm.SVC()\n",
        "\n",
        "model.fit(input_data, output_data)"
      ]
    },
    {
      "cell_type": "markdown",
      "metadata": {
        "id": "0hC_0cpDHP3u"
      },
      "source": [
        "#### Player 2\n",
        "\n",
        "Next, let’s set up the player choosing from rock, paper, or scissors! We can make this into a function so that if we need to change things we can easily do so. Since the player isn’t the focus of the project, they will be player 2 while the computer is player 1."
      ]
    },
    {
      "cell_type": "code",
      "execution_count": null,
      "metadata": {
        "id": "LUIO1RFRHULB"
      },
      "outputs": [],
      "source": [
        "def getPlayer2():\n",
        "\tchoice = int(input(\"Please select one of the following 1) Rock, 2) Paper, 3) Scissors: \"))\n",
        "\treturn choice"
      ]
    },
    {
      "cell_type": "markdown",
      "metadata": {
        "id": "aXQ8q3p5HTRf"
      },
      "source": [
        "#### Player 1\n",
        "\n",
        "For the AI’s guess we are going to use the user’s two most recent games (choices) as our input to predict. These 2 games are simply the two most recent values in our \"history\" list. Our model will then give us a prediction of what the opponent will play. The AI will then take that answer and play what beats its prediction.\n",
        "\n",
        "This function will return what the AI has chosen for its turn. It has used the player’s most recent 2 games as input data and predicted what it thinks the player will play (current). It then chooses the counter to that move!\n",
        "\n",
        "(Note, the \"0\" added will simply remove any decimals we may get back. If we use a model such as linear regression, we may not always get back 1, 2, or 3. We may sometimes get 1.23, for example)"
      ]
    },
    {
      "cell_type": "code",
      "execution_count": null,
      "metadata": {
        "id": "2WkfNiJAHxo6"
      },
      "outputs": [],
      "source": [
        "def getPlayer1():\n",
        "\tdata_record = [history[-2], history[-1]]\n",
        "\tcurrent = model.predict([data_record])[0]\n",
        "\tif current == 1:\n",
        "\t\treturn 2\n",
        "\telif current == 2:\n",
        "\t\treturn 3\n",
        "\telse:\n",
        "\t\treturn 1"
      ]
    },
    {
      "cell_type": "markdown",
      "metadata": {
        "id": "iWO9mTSFIMiN"
      },
      "source": [
        "#### Play game\n",
        "\n",
        "\n",
        "\n"
      ]
    },
    {
      "cell_type": "markdown",
      "metadata": {
        "id": "S6Us-H-tInju"
      },
      "source": [
        "Afterwards, let’s set up some variables to keep track of the game. We can just record the number of wins, ties, and losses.\n",
        "\n",
        "Now we can move on to changing/ upgrading our for loop! Let’s change the amount of games from 10 to 20 so that we can more accurately see the AI adapt to any patterns. Next, since we have the functions for both the user and AI returning their choices, we can simply call those and set them to our variables we have already. Then, let us tally up the correct wins and losses based on the correct result! All of these changes will have the for loop looking something like the following."
      ]
    },
    {
      "cell_type": "code",
      "execution_count": null,
      "metadata": {
        "id": "hoyzCDo8Im4n",
        "colab": {
          "base_uri": "https://localhost:8080/"
        },
        "outputId": "b0b5b6e8-897d-43d4-d364-ff82d70d4f39"
      },
      "outputs": [
        {
          "output_type": "stream",
          "name": "stdout",
          "text": [
            "Game:  1\n",
            "Please select one of the following 1) Rock, 2) Paper, 3) Scissors: 1\n",
            "Computer:  2 vs Player:  1\n",
            "The comp wins!\n",
            "Game:  2\n",
            "Please select one of the following 1) Rock, 2) Paper, 3) Scissors: 1\n",
            "Computer:  2 vs Player:  1\n",
            "The comp wins!\n",
            "Game:  3\n",
            "Please select one of the following 1) Rock, 2) Paper, 3) Scissors: 3\n",
            "Computer:  2 vs Player:  3\n",
            "The user wins!\n",
            "Game:  4\n",
            "Please select one of the following 1) Rock, 2) Paper, 3) Scissors: 2\n",
            "Computer:  2 vs Player:  2\n",
            "It’s a tie!\n",
            "Game:  5\n",
            "Please select one of the following 1) Rock, 2) Paper, 3) Scissors: 3\n",
            "Computer:  2 vs Player:  3\n",
            "The user wins!\n",
            "Game:  6\n",
            "Please select one of the following 1) Rock, 2) Paper, 3) Scissors: 1\n",
            "Computer:  2 vs Player:  1\n",
            "The comp wins!\n",
            "Game:  7\n",
            "Please select one of the following 1) Rock, 2) Paper, 3) Scissors: 1\n",
            "Computer:  2 vs Player:  1\n",
            "The comp wins!\n",
            "Game:  8\n",
            "Please select one of the following 1) Rock, 2) Paper, 3) Scissors: 3\n",
            "Computer:  2 vs Player:  3\n",
            "The user wins!\n",
            "Game:  9\n",
            "Please select one of the following 1) Rock, 2) Paper, 3) Scissors: 2\n",
            "Computer:  2 vs Player:  2\n",
            "It’s a tie!\n",
            "Game:  10\n",
            "Please select one of the following 1) Rock, 2) Paper, 3) Scissors: 1\n",
            "Computer:  2 vs Player:  1\n",
            "The comp wins!\n",
            "Game:  11\n",
            "Please select one of the following 1) Rock, 2) Paper, 3) Scissors: 1\n",
            "Computer:  2 vs Player:  1\n",
            "The comp wins!\n",
            "Game:  12\n",
            "Please select one of the following 1) Rock, 2) Paper, 3) Scissors: 3\n",
            "Computer:  2 vs Player:  3\n",
            "The user wins!\n",
            "Game:  13\n",
            "Please select one of the following 1) Rock, 2) Paper, 3) Scissors: 2\n",
            "Computer:  2 vs Player:  2\n",
            "It’s a tie!\n",
            "Game:  14\n",
            "Please select one of the following 1) Rock, 2) Paper, 3) Scissors: 1\n",
            "Computer:  2 vs Player:  1\n",
            "The comp wins!\n",
            "Game:  15\n",
            "Please select one of the following 1) Rock, 2) Paper, 3) Scissors: 1\n",
            "Computer:  2 vs Player:  1\n",
            "The comp wins!\n",
            "Game:  16\n",
            "Please select one of the following 1) Rock, 2) Paper, 3) Scissors: 3\n",
            "Computer:  2 vs Player:  3\n",
            "The user wins!\n",
            "Game:  17\n",
            "Please select one of the following 1) Rock, 2) Paper, 3) Scissors: 2\n",
            "Computer:  2 vs Player:  2\n",
            "It’s a tie!\n",
            "Game:  18\n",
            "Please select one of the following 1) Rock, 2) Paper, 3) Scissors: 1\n",
            "Computer:  2 vs Player:  1\n",
            "The comp wins!\n",
            "Game:  19\n",
            "Please select one of the following 1) Rock, 2) Paper, 3) Scissors: 1\n",
            "Computer:  2 vs Player:  1\n",
            "The comp wins!\n",
            "Game:  20\n",
            "Please select one of the following 1) Rock, 2) Paper, 3) Scissors: 3\n",
            "Computer:  2 vs Player:  3\n",
            "The user wins!\n"
          ]
        }
      ],
      "source": [
        "wins_player1 = 0\n",
        "wins_player2 = 0\n",
        "total_ties = 0\n",
        "\n",
        "for i in range(20):\n",
        "  print(\"Game: \", i+1)\n",
        "  comp = getPlayer1()\n",
        "  user = getPlayer2()\n",
        "  print(\"Computer: \", comp, \"vs Player: \", user)\n",
        "  if comp == 1 and user == 1:\n",
        "    print(\"It’s a tie!\")\n",
        "    total_ties += 1\n",
        "\n",
        "  elif comp == 1 and user == 2:\n",
        "    print(\"The user wins!\")\n",
        "    wins_player2 += 1\n",
        "  elif comp == 1 and user == 3:\n",
        "    print(\"The comp wins!\")\n",
        "    wins_player1 += 1\n",
        "  elif comp == 2 and user == 1:\n",
        "    print(\"The comp wins!\")\n",
        "    wins_player1 += 1\n",
        "  elif comp == 2 and user == 2:\n",
        "    print(\"It’s a tie!\")\n",
        "    total_ties += 1\n",
        "  elif comp == 2 and user == 3:\n",
        "    print(\"The user wins!\")\n",
        "    wins_player2 += 1\n",
        "  elif comp == 3 and user == 1:\n",
        "    print(\"The user wins!\")\n",
        "    wins_player2 += 1\n",
        "  elif comp == 3 and user == 2:\n",
        "    print(\"The comp wins!\")\n",
        "    wins_player1 += 1\n",
        "  elif comp == 3 and user == 3:\n",
        "    print(\"It’s a tie!!\")\n",
        "    total_ties += 1"
      ]
    },
    {
      "cell_type": "markdown",
      "metadata": {
        "id": "rKmtGvPqMBvX"
      },
      "source": [
        "Once we have everything else ready, we will move on to the final part of the project: making the machine learning model adapt as the game goes on.\n",
        "\n",
        "As the game progresses we want the model to be able to see the patterns/habits of the player. To do this, we will need to update our model. If we add the user’s most recent move to their history, we can then add more data to our input and output, which trains our model. By taking the 3rd and 2nd most recent game as our input, we can see what the actual result would be from the 1st most recent game. Just like we did when we came up with patterns in our input and output data, we are getting live results as to what the player will commonly choose after having chosen for the previous 2 games.\n",
        "\n",
        "We should also provide a message to show that the training model is being updated. This all comes together to look like the following."
      ]
    },
    {
      "cell_type": "code",
      "execution_count": null,
      "metadata": {
        "colab": {
          "base_uri": "https://localhost:8080/"
        },
        "id": "xsH-R5pUMGE8",
        "outputId": "c863ac02-cf22-4058-900b-718fb8cca85b"
      },
      "outputs": [
        {
          "name": "stdout",
          "output_type": "stream",
          "text": [
            "Updating the training model...\n",
            "Finished updating the training model\n"
          ]
        }
      ],
      "source": [
        "print(\"Updating the training model...\")\n",
        "history.append(user)\n",
        "input_data.append([history[-3], history[-2]])\n",
        "output_data.append(history[-1])\n",
        "model.fit(input_data,output_data)\n",
        "print(\"Finished updating the training model\")"
      ]
    },
    {
      "cell_type": "markdown",
      "metadata": {
        "id": "THmFgrEIMmsV"
      },
      "source": [
        "By continuously updating our model with real data, we can get the most accurate prediction of what the player will choose. As the AI adapts it will more precisely be able to guess what the player will do next. This update will take place inside the loop after every game is played.\n",
        "\n",
        "Lastly, let us print out the results of all the games!"
      ]
    },
    {
      "cell_type": "code",
      "execution_count": null,
      "metadata": {
        "colab": {
          "base_uri": "https://localhost:8080/"
        },
        "id": "DjldULnXMtP1",
        "outputId": "c1f6a48d-a93c-4ac7-9e48-3231ab43a2e1"
      },
      "outputs": [
        {
          "output_type": "stream",
          "name": "stdout",
          "text": [
            "Computer:  10\n",
            "Player:  6\n",
            "Total ties:  4\n"
          ]
        }
      ],
      "source": [
        "print(\"Computer: \", wins_player1)\n",
        "print(\"Player: \", wins_player2)\n",
        "print(\"Total ties: \", total_ties)"
      ]
    },
    {
      "cell_type": "markdown",
      "metadata": {
        "id": "nfhjrHAaNU5e"
      },
      "source": [
        "#### All code together\n",
        "\n",
        "Our Rock,Paper, Scissors AI is now complete, try playing against it! To test it simply choose some patterns and watch as it adapts to your gameplan. Choosing 1 over and over, or even 1, 2, and then 3, will be recognized by the computer and beaten!"
      ]
    },
    {
      "cell_type": "code",
      "execution_count": null,
      "metadata": {
        "colab": {
          "background_save": true
        },
        "id": "Wzryll2VNhfs"
      },
      "outputs": [],
      "source": [
        "input_data = [  \n",
        "[1,1], # [history[0],history[1]]\n",
        "[1,3], # [history[1],history[2]]\n",
        "[3,2], # [history[2],history[3]]\n",
        "[2,1]] # [history[3],history[0]]\n",
        "\n",
        "#predict what they are going to throw next\n",
        "output_data = [3,2,1,1]  # [history[2],history[3],history[0],history[1]]\n",
        "\n",
        "model = svm.SVC()\n",
        "model.fit(input_data, output_data)\n",
        "\n",
        "wins_player1 = 0\n",
        "wins_player2 = 0\n",
        "total_ties = 0\n",
        "\n",
        "for i in range(20):\n",
        "  print(\"Game: \", i+1)\n",
        "  comp = getPlayer1()\n",
        "  user = getPlayer2()\n",
        "  print(\"Computer: \", comp, \"vs Player: \", user)\n",
        "  if comp == 1 and user == 1:\n",
        "    print(\"It’s a tie!\")\n",
        "    total_ties += 1\n",
        "    \n",
        "  elif comp == 1 and user == 2:\n",
        "    print(\"The user wins!\")\n",
        "    wins_player2 += 1\n",
        "  elif comp == 1 and user == 3:\n",
        "    print(\"The comp wins!\")\n",
        "    wins_player1 += 1\n",
        "  elif comp == 2 and user == 1:\n",
        "    print(\"The comp wins!\")\n",
        "    wins_player1 += 1\n",
        "  elif comp == 2 and user == 2:\n",
        "    print(\"It’s a tie!\")\n",
        "    total_ties += 1\n",
        "  elif comp == 2 and user == 3:\n",
        "    print(\"The user wins!\")\n",
        "    wins_player2 += 1\n",
        "  elif comp == 3 and user == 1:\n",
        "    print(\"The user wins!\")\n",
        "    wins_player2 += 1\n",
        "  elif comp == 3 and user == 2:\n",
        "    print(\"The comp wins!\")\n",
        "    wins_player1 += 1\n",
        "  elif comp == 3 and user == 3:\n",
        "    print(\"It’s a tie!!\")\n",
        "    total_ties += 1\n",
        "  print(\"Updating the training model...\")\n",
        "\n",
        "  history.append(user)\n",
        "  input_data.append([history[-3], history[-2]])\n",
        "  output_data.append(history[-1])\n",
        "  model.fit(input_data,output_data)\n",
        "  print(\"Finished updating the training model\")\n",
        "\n",
        "print(\"Computer: \", wins_player1)\n",
        "print(\"Player: \", wins_player2)\n",
        "print(\"Total ties: \", total_ties)"
      ]
    },
    {
      "cell_type": "markdown",
      "metadata": {
        "id": "dl6gut05O0uN"
      },
      "source": [
        "# Assignment"
      ]
    },
    {
      "cell_type": "markdown",
      "metadata": {
        "id": "2K-nF8XwPC7N"
      },
      "source": [
        "## Task 1\n",
        "1. Our program is already very robust, but we can always improve and customize things. First and foremost, we can choose an entirely different model. What model do you think would be best for this problem? Look up some new models online. Are there any for sklearn that you could possibly use? For example, the Passive Aggressive classifier can be used. Train at least 2 different models.\n",
        "\n",
        "https://scikit-learn.org/stable/modules/classes.html\n",
        "\n",
        "**Note: Search for the word \"Classifier\" and do not add anything between parentheses Eg. RandomForestClassifier(max_depth=2, random_state=0) => RandomForestClassifier() **\n",
        "\n",
        "2. Choose what you believe is the most optimal model (that may still be SVM)\n",
        "\n",
        "\n",
        "\n"
      ]
    },
    {
      "cell_type": "markdown",
      "metadata": {
        "id": "lllRfMTLTMUG"
      },
      "source": [
        "## Task 2\n",
        "\n",
        "Next, let’s modify how many games we are using for our predictions. Select a number of games to use. In the lesson, we use  the last 2  elements in the history. Be aware, when making changes to this, you will need to modify many areas of the code. We will go through many of those below. First, customize the history to start with predictions you believe make sense by increasing the number of elements and values. For example, you could change them all to just predict simple patterns 1,1,1,1."
      ]
    },
    {
      "cell_type": "markdown",
      "metadata": {
        "id": "Ue9Bw64FTPYt"
      },
      "source": [
        "## Task 3\n",
        "\n",
        "As we are modifying the number of games we wish to predict with, let us now improve the getPlayer1() function. Where we are recording the 2 most recent games (-1 and -2) increase it to the number you have selected. For example, if we wanted 3 games, it would become \n",
        "\n",
        "    data_record = [history[-3], history[-2], history[-1]]"
      ]
    },
    {
      "cell_type": "markdown",
      "metadata": {
        "id": "9sQACYSsWDqF"
      },
      "source": [
        "## Task 4 \n",
        "\n",
        "Go to the line in which you initialize the \"input_data\" and change the value. For example, we have the \n",
        "\n",
        "    history = [1,1,1,1,3,2,2,...] \n",
        "\n",
        "and we want the \"data_record\" to be 3 games then we need to change the \n",
        "\n",
        "    input_data = [[1,1,1],[1,1,1],[1,1,3],[1,3,2]...]\n",
        "    \n",
        "By doing all of this, we have now successfully modified our program to take in the last three games as predictors instead of just 2."
      ]
    },
    {
      "cell_type": "markdown",
      "metadata": {
        "id": "jWISbky8V3RM"
      },
      "source": [
        "##Task 5\n",
        "\n",
        "Just as we modified the getplayer1() function above, modify the area we are updating the training model. For example, if we wanted 3 games now, the code would become \n",
        "\n",
        "    input_data.append([history[-4], history[-3], history[-2]])"
      ]
    },
    {
      "cell_type": "markdown",
      "metadata": {
        "id": "JAnyYDlqaFQu"
      },
      "source": [
        "## Task 7\n",
        "Lastly, replace the value of the \"output_data\".  For example, if \n",
        "\n",
        "    history = [1,1,1,1,3,2,2,...] \n",
        "    input_data = [[1,1,1],[1,1,1],[1,1,3],[1,3,2]...] \n",
        "    \n",
        "then \n",
        "\n",
        "    output_data = [1,3,2,2...] "
      ]
    },
    {
      "cell_type": "markdown",
      "metadata": {
        "id": "PHoWGCZncsgM"
      },
      "source": [
        "## Task 8\n",
        "\n",
        "Test the program "
      ]
    }
  ],
  "metadata": {
    "colab": {
      "name": "Week 6.ipynb",
      "provenance": [],
      "collapsed_sections": [
        "4_vlONCiDq02",
        "0hC_0cpDHP3u"
      ],
      "include_colab_link": true
    },
    "kernelspec": {
      "display_name": "Python 3",
      "name": "python3"
    },
    "language_info": {
      "name": "python"
    }
  },
  "nbformat": 4,
  "nbformat_minor": 0
}